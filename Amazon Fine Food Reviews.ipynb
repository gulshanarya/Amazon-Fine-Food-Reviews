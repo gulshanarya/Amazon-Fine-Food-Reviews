{
  "cells": [
    {
      "cell_type": "markdown",
      "metadata": {
        "id": "view-in-github",
        "colab_type": "text"
      },
      "source": [
        "<a href=\"https://colab.research.google.com/github/gulshanarya/Amazon-Fine-Food-Reviews/blob/main/Amazon%20Fine%20Food%20Reviews.ipynb\" target=\"_parent\"><img src=\"https://colab.research.google.com/assets/colab-badge.svg\" alt=\"Open In Colab\"/></a>"
      ]
    },
    {
      "cell_type": "markdown",
      "metadata": {
        "id": "bEFmNOTu1CH3"
      },
      "source": [
        "#Downloading data from kaggle:"
      ]
    },
    {
      "cell_type": "code",
      "execution_count": null,
      "metadata": {
        "id": "M4RtfrNWpAR7"
      },
      "outputs": [],
      "source": [
        "!mkdir ~/.kaggle/"
      ]
    },
    {
      "cell_type": "code",
      "execution_count": null,
      "metadata": {
        "id": "e2ZzhUfoKz7o"
      },
      "outputs": [],
      "source": [
        "!cp /content/drive/MyDrive/kaggle.json ~/.kaggle/kaggle.json"
      ]
    },
    {
      "cell_type": "code",
      "execution_count": null,
      "metadata": {
        "colab": {
          "base_uri": "https://localhost:8080/"
        },
        "id": "SWJYqMq7oeLK",
        "outputId": "db76e0fd-2ead-4eac-8d5e-6ff0c2b9750c"
      },
      "outputs": [
        {
          "output_type": "stream",
          "name": "stdout",
          "text": [
            ".  ..  kaggle.json\n"
          ]
        }
      ],
      "source": [
        "!ls -a ~/.kaggle/"
      ]
    },
    {
      "cell_type": "code",
      "execution_count": null,
      "metadata": {
        "colab": {
          "base_uri": "https://localhost:8080/"
        },
        "id": "CvOUqzNt7QbU",
        "outputId": "5bc3056b-9328-474d-ec6e-257f8795beaf"
      },
      "outputs": [
        {
          "output_type": "stream",
          "name": "stdout",
          "text": [
            "Downloading Reviews.csv.zip to /content\n",
            " 93% 106M/115M [00:00<00:00, 116MB/s] \n",
            "100% 115M/115M [00:01<00:00, 118MB/s]\n"
          ]
        }
      ],
      "source": [
        "#downloading reviews dataset\n",
        "!kaggle datasets download snap/amazon-fine-food-reviews -f Reviews.csv"
      ]
    },
    {
      "cell_type": "markdown",
      "metadata": {
        "id": "HdpbYbae4Cts"
      },
      "source": [
        "#Preprocessing Data"
      ]
    },
    {
      "cell_type": "code",
      "execution_count": 7,
      "metadata": {
        "id": "uaHYHAh3Lxsn"
      },
      "outputs": [],
      "source": [
        "#First importing the library used in this project.\n",
        "import pandas as pd\n",
        "import sklearn\n",
        "from sklearn.model_selection import train_test_split\n",
        "import numpy as np\n",
        "from nltk.corpus import stopwords\n",
        "from sklearn.feature_extraction.text import CountVectorizer\n",
        "from sklearn.naive_bayes import MultinomialNB\n",
        "from sklearn.model_selection import GridSearchCV\n",
        "from tqdm import tqdm\n",
        "from sklearn.preprocessing import normalize\n",
        "from sklearn.preprocessing import MinMaxScaler\n",
        "from sklearn.preprocessing import MaxAbsScaler\n",
        "from sklearn.metrics import accuracy_score\n",
        "from sklearn.metrics import confusion_matrix\n",
        "from bs4 import BeautifulSoup\n",
        "import scipy\n",
        "from sklearn.feature_extraction.text import TfidfVectorizer\n",
        "import joblib\n",
        "from sklearn.linear_model import LogisticRegression\n",
        "from sklearn.metrics import confusion_matrix\n",
        "import tensorflow as tf\n",
        "import os\n",
        "import re\n",
        "import nltk\n",
        "from nltk.stem import PorterStemmer\n",
        "from nltk.tokenize import word_tokenize\n",
        "from gensim.models import KeyedVectors\n",
        "import os\n",
        "from collections import Counter\n",
        "from sklearn.metrics import f1_score\n",
        "import pandas as pd\n",
        "import matplotlib.pyplot as plt\n",
        "import tqdm,bs4,gensim"
      ]
    },
    {
      "cell_type": "code",
      "source": [
        "!python --version"
      ],
      "metadata": {
        "colab": {
          "base_uri": "https://localhost:8080/"
        },
        "id": "p50cBK9vlIpl",
        "outputId": "5114062d-dbde-450e-9845-e632289616a7"
      },
      "execution_count": 9,
      "outputs": [
        {
          "output_type": "stream",
          "name": "stdout",
          "text": [
            "Python 3.7.12\n"
          ]
        }
      ]
    },
    {
      "cell_type": "code",
      "source": [
        "#saving the used version for compatibility.\n",
        "with open(\"/content/drive/MyDrive/applied ai/myself work/amazon fine food reviews/requirements.txt\", \"w\") as f:\n",
        "    f.write(f\"\"\"\n",
        "It is preferred to directly use it in google colab.\n",
        "Libraries and their versions:\n",
        "Python 3.7.12\n",
        "pandas {pd.__version__}\n",
        "sklearn {sklearn.__version__}\n",
        "numpy {np.__version__}\n",
        "nltk {nltk.__version__}\n",
        "tqdm {tqdm.__version__}\n",
        "bs4 {bs4.__version__}\n",
        "scipy {scipy.__version__}\n",
        "joblib {joblib.__version__}\n",
        "tensorflow {tf.__version__}\n",
        "re {re.__version__}\n",
        "gensim {gensim.__version__}\n",
        "\"\"\")"
      ],
      "metadata": {
        "id": "clZDIH8SZY7f"
      },
      "execution_count": 17,
      "outputs": []
    },
    {
      "cell_type": "code",
      "source": [
        "with open(\"/content/drive/MyDrive/applied ai/myself work/amazon fine food reviews/requirements.txt\", \"r\") as f:\n",
        "    print(f.read(), sep=\"\\n\")"
      ],
      "metadata": {
        "colab": {
          "base_uri": "https://localhost:8080/"
        },
        "id": "szTbqheDeDOx",
        "outputId": "90ec0798-42f7-410d-c85a-28903ad847e0"
      },
      "execution_count": 18,
      "outputs": [
        {
          "output_type": "stream",
          "name": "stdout",
          "text": [
            "\n",
            "It is preferred to directly use it in google colab.\n",
            "Libraries and their versions:\n",
            "Python 3.7.12\n",
            "pandas 1.1.5\n",
            "sklearn 1.0.1\n",
            "numpy 1.19.5\n",
            "nltk 3.2.5\n",
            "tqdm 4.62.3\n",
            "bs4 4.6.3\n",
            "scipy 1.4.1\n",
            "joblib 1.1.0\n",
            "tensorflow 2.7.0\n",
            "re 2.2.1\n",
            "gensim 3.6.0\n",
            "\n"
          ]
        }
      ]
    },
    {
      "cell_type": "code",
      "execution_count": null,
      "metadata": {
        "id": "FhCcOJdjZUYU"
      },
      "outputs": [],
      "source": [
        "data = pd.read_csv(\"/content/Reviews.csv.zip\")"
      ]
    },
    {
      "cell_type": "code",
      "execution_count": null,
      "metadata": {
        "id": "Jg5XqJiGZUYW",
        "colab": {
          "base_uri": "https://localhost:8080/",
          "height": 739
        },
        "outputId": "cb54ba5d-df24-446d-cb60-a2150198e34e"
      },
      "outputs": [
        {
          "output_type": "execute_result",
          "data": {
            "text/html": [
              "\n",
              "  <div id=\"df-b22f0f1e-f449-4e50-a798-bacab1d4b15e\">\n",
              "    <div class=\"colab-df-container\">\n",
              "      <div>\n",
              "<style scoped>\n",
              "    .dataframe tbody tr th:only-of-type {\n",
              "        vertical-align: middle;\n",
              "    }\n",
              "\n",
              "    .dataframe tbody tr th {\n",
              "        vertical-align: top;\n",
              "    }\n",
              "\n",
              "    .dataframe thead th {\n",
              "        text-align: right;\n",
              "    }\n",
              "</style>\n",
              "<table border=\"1\" class=\"dataframe\">\n",
              "  <thead>\n",
              "    <tr style=\"text-align: right;\">\n",
              "      <th></th>\n",
              "      <th>Id</th>\n",
              "      <th>ProductId</th>\n",
              "      <th>UserId</th>\n",
              "      <th>ProfileName</th>\n",
              "      <th>HelpfulnessNumerator</th>\n",
              "      <th>HelpfulnessDenominator</th>\n",
              "      <th>Score</th>\n",
              "      <th>Time</th>\n",
              "      <th>Summary</th>\n",
              "      <th>Text</th>\n",
              "    </tr>\n",
              "  </thead>\n",
              "  <tbody>\n",
              "    <tr>\n",
              "      <th>0</th>\n",
              "      <td>1</td>\n",
              "      <td>B001E4KFG0</td>\n",
              "      <td>A3SGXH7AUHU8GW</td>\n",
              "      <td>delmartian</td>\n",
              "      <td>1</td>\n",
              "      <td>1</td>\n",
              "      <td>5</td>\n",
              "      <td>1303862400</td>\n",
              "      <td>Good Quality Dog Food</td>\n",
              "      <td>I have bought several of the Vitality canned d...</td>\n",
              "    </tr>\n",
              "    <tr>\n",
              "      <th>1</th>\n",
              "      <td>2</td>\n",
              "      <td>B00813GRG4</td>\n",
              "      <td>A1D87F6ZCVE5NK</td>\n",
              "      <td>dll pa</td>\n",
              "      <td>0</td>\n",
              "      <td>0</td>\n",
              "      <td>1</td>\n",
              "      <td>1346976000</td>\n",
              "      <td>Not as Advertised</td>\n",
              "      <td>Product arrived labeled as Jumbo Salted Peanut...</td>\n",
              "    </tr>\n",
              "    <tr>\n",
              "      <th>2</th>\n",
              "      <td>3</td>\n",
              "      <td>B000LQOCH0</td>\n",
              "      <td>ABXLMWJIXXAIN</td>\n",
              "      <td>Natalia Corres \"Natalia Corres\"</td>\n",
              "      <td>1</td>\n",
              "      <td>1</td>\n",
              "      <td>4</td>\n",
              "      <td>1219017600</td>\n",
              "      <td>\"Delight\" says it all</td>\n",
              "      <td>This is a confection that has been around a fe...</td>\n",
              "    </tr>\n",
              "    <tr>\n",
              "      <th>3</th>\n",
              "      <td>4</td>\n",
              "      <td>B000UA0QIQ</td>\n",
              "      <td>A395BORC6FGVXV</td>\n",
              "      <td>Karl</td>\n",
              "      <td>3</td>\n",
              "      <td>3</td>\n",
              "      <td>2</td>\n",
              "      <td>1307923200</td>\n",
              "      <td>Cough Medicine</td>\n",
              "      <td>If you are looking for the secret ingredient i...</td>\n",
              "    </tr>\n",
              "    <tr>\n",
              "      <th>4</th>\n",
              "      <td>5</td>\n",
              "      <td>B006K2ZZ7K</td>\n",
              "      <td>A1UQRSCLF8GW1T</td>\n",
              "      <td>Michael D. Bigham \"M. Wassir\"</td>\n",
              "      <td>0</td>\n",
              "      <td>0</td>\n",
              "      <td>5</td>\n",
              "      <td>1350777600</td>\n",
              "      <td>Great taffy</td>\n",
              "      <td>Great taffy at a great price.  There was a wid...</td>\n",
              "    </tr>\n",
              "  </tbody>\n",
              "</table>\n",
              "</div>\n",
              "      <button class=\"colab-df-convert\" onclick=\"convertToInteractive('df-b22f0f1e-f449-4e50-a798-bacab1d4b15e')\"\n",
              "              title=\"Convert this dataframe to an interactive table.\"\n",
              "              style=\"display:none;\">\n",
              "        \n",
              "  <svg xmlns=\"http://www.w3.org/2000/svg\" height=\"24px\"viewBox=\"0 0 24 24\"\n",
              "       width=\"24px\">\n",
              "    <path d=\"M0 0h24v24H0V0z\" fill=\"none\"/>\n",
              "    <path d=\"M18.56 5.44l.94 2.06.94-2.06 2.06-.94-2.06-.94-.94-2.06-.94 2.06-2.06.94zm-11 1L8.5 8.5l.94-2.06 2.06-.94-2.06-.94L8.5 2.5l-.94 2.06-2.06.94zm10 10l.94 2.06.94-2.06 2.06-.94-2.06-.94-.94-2.06-.94 2.06-2.06.94z\"/><path d=\"M17.41 7.96l-1.37-1.37c-.4-.4-.92-.59-1.43-.59-.52 0-1.04.2-1.43.59L10.3 9.45l-7.72 7.72c-.78.78-.78 2.05 0 2.83L4 21.41c.39.39.9.59 1.41.59.51 0 1.02-.2 1.41-.59l7.78-7.78 2.81-2.81c.8-.78.8-2.07 0-2.86zM5.41 20L4 18.59l7.72-7.72 1.47 1.35L5.41 20z\"/>\n",
              "  </svg>\n",
              "      </button>\n",
              "      \n",
              "  <style>\n",
              "    .colab-df-container {\n",
              "      display:flex;\n",
              "      flex-wrap:wrap;\n",
              "      gap: 12px;\n",
              "    }\n",
              "\n",
              "    .colab-df-convert {\n",
              "      background-color: #E8F0FE;\n",
              "      border: none;\n",
              "      border-radius: 50%;\n",
              "      cursor: pointer;\n",
              "      display: none;\n",
              "      fill: #1967D2;\n",
              "      height: 32px;\n",
              "      padding: 0 0 0 0;\n",
              "      width: 32px;\n",
              "    }\n",
              "\n",
              "    .colab-df-convert:hover {\n",
              "      background-color: #E2EBFA;\n",
              "      box-shadow: 0px 1px 2px rgba(60, 64, 67, 0.3), 0px 1px 3px 1px rgba(60, 64, 67, 0.15);\n",
              "      fill: #174EA6;\n",
              "    }\n",
              "\n",
              "    [theme=dark] .colab-df-convert {\n",
              "      background-color: #3B4455;\n",
              "      fill: #D2E3FC;\n",
              "    }\n",
              "\n",
              "    [theme=dark] .colab-df-convert:hover {\n",
              "      background-color: #434B5C;\n",
              "      box-shadow: 0px 1px 3px 1px rgba(0, 0, 0, 0.15);\n",
              "      filter: drop-shadow(0px 1px 2px rgba(0, 0, 0, 0.3));\n",
              "      fill: #FFFFFF;\n",
              "    }\n",
              "  </style>\n",
              "\n",
              "      <script>\n",
              "        const buttonEl =\n",
              "          document.querySelector('#df-b22f0f1e-f449-4e50-a798-bacab1d4b15e button.colab-df-convert');\n",
              "        buttonEl.style.display =\n",
              "          google.colab.kernel.accessAllowed ? 'block' : 'none';\n",
              "\n",
              "        async function convertToInteractive(key) {\n",
              "          const element = document.querySelector('#df-b22f0f1e-f449-4e50-a798-bacab1d4b15e');\n",
              "          const dataTable =\n",
              "            await google.colab.kernel.invokeFunction('convertToInteractive',\n",
              "                                                     [key], {});\n",
              "          if (!dataTable) return;\n",
              "\n",
              "          const docLinkHtml = 'Like what you see? Visit the ' +\n",
              "            '<a target=\"_blank\" href=https://colab.research.google.com/notebooks/data_table.ipynb>data table notebook</a>'\n",
              "            + ' to learn more about interactive tables.';\n",
              "          element.innerHTML = '';\n",
              "          dataTable['output_type'] = 'display_data';\n",
              "          await google.colab.output.renderOutput(dataTable, element);\n",
              "          const docLink = document.createElement('div');\n",
              "          docLink.innerHTML = docLinkHtml;\n",
              "          element.appendChild(docLink);\n",
              "        }\n",
              "      </script>\n",
              "    </div>\n",
              "  </div>\n",
              "  "
            ],
            "text/plain": [
              "   Id  ...                                               Text\n",
              "0   1  ...  I have bought several of the Vitality canned d...\n",
              "1   2  ...  Product arrived labeled as Jumbo Salted Peanut...\n",
              "2   3  ...  This is a confection that has been around a fe...\n",
              "3   4  ...  If you are looking for the secret ingredient i...\n",
              "4   5  ...  Great taffy at a great price.  There was a wid...\n",
              "\n",
              "[5 rows x 10 columns]"
            ]
          },
          "metadata": {},
          "execution_count": 9
        }
      ],
      "source": [
        "data.head()"
      ]
    },
    {
      "cell_type": "markdown",
      "metadata": {
        "id": "BEJKR4qQoIYB"
      },
      "source": [
        "Data Source: https://www.kaggle.com/snap/amazon-fine-food-reviews"
      ]
    },
    {
      "cell_type": "markdown",
      "metadata": {
        "id": "4wKSIBsPoYzc"
      },
      "source": [
        "**Objective:**<br>\n",
        "Given a review determine weather review is +ve (rating 4 or 5) or -ve(rating 1 or 2)\n"
      ]
    },
    {
      "cell_type": "markdown",
      "metadata": {
        "id": "MQlXBFiHpQMq"
      },
      "source": [
        "<h2>Exploratory data analysis</h2>"
      ]
    },
    {
      "cell_type": "code",
      "execution_count": null,
      "metadata": {
        "id": "gwtPdeQGZUYX"
      },
      "outputs": [],
      "source": [
        "#dropping all the rows with score = 3\n",
        "data = data[data[\"Score\"] != 3]"
      ]
    },
    {
      "cell_type": "markdown",
      "metadata": {
        "id": "HPsX6eKPwAcE"
      },
      "source": [
        "<h3>"
      ]
    },
    {
      "cell_type": "markdown",
      "metadata": {
        "id": "nf_UgmTowGZ5"
      },
      "source": [
        "<h3>Data deduplication</h3>"
      ]
    },
    {
      "cell_type": "markdown",
      "metadata": {
        "id": "cdcJulKM2_SW"
      },
      "source": [
        "First the same user at the same time can't review with the same text on different products but looking below we can say this is the case since look at UserId '#oc-R11D9D7SHXIJB9' below:"
      ]
    },
    {
      "cell_type": "code",
      "execution_count": null,
      "metadata": {
        "id": "YEbv-AG3sOhr"
      },
      "outputs": [],
      "source": [
        "data[data.duplicated([\"UserId\", \"Time\", \"Text\"])].sort_values([\"UserId\", \"Time\"]).head(5)"
      ]
    },
    {
      "cell_type": "markdown",
      "metadata": {
        "id": "9y0rrIjx2yZc"
      },
      "source": [
        "Actually, it's not the error by amazon but instead amazon adding the same review on the same product but with some different flavours and with different ProductId."
      ]
    },
    {
      "cell_type": "code",
      "execution_count": null,
      "metadata": {
        "id": "jnHO2Xv9vkgr"
      },
      "outputs": [],
      "source": [
        "#dropping duplicates\n",
        "new_data = data.drop_duplicates([\"UserId\", \"ProfileName\", \"Time\", \"Text\"])"
      ]
    },
    {
      "cell_type": "code",
      "execution_count": null,
      "metadata": {
        "id": "HrsS1qdtsW3x"
      },
      "outputs": [],
      "source": [
        "#Checking to see how much % of data still remains\n",
        "(new_data['Id'].size*1.0)/(data['Id'].size*1.0)*100"
      ]
    },
    {
      "cell_type": "markdown",
      "metadata": {
        "id": "GyC6ZE2zjHdk"
      },
      "source": [
        "Also HelpfulnessNumerator can't be greater than HelpfulnessDenominator and so removing those rows:"
      ]
    },
    {
      "cell_type": "code",
      "execution_count": null,
      "metadata": {
        "id": "Rf5t9-KIjr6f"
      },
      "outputs": [],
      "source": [
        "new_data = new_data[new_data.HelpfulnessNumerator<=new_data.HelpfulnessDenominator]"
      ]
    },
    {
      "cell_type": "code",
      "execution_count": null,
      "metadata": {
        "id": "Aww22Uyqk-ad"
      },
      "outputs": [],
      "source": [
        "new_data[\"Y\"] = (new_data[\"Score\"]>3)*1"
      ]
    },
    {
      "cell_type": "markdown",
      "metadata": {
        "id": "Cc1Tok1nhEqP"
      },
      "source": [
        "**Becoz of computing resource limitation dropping rows from class 1 since class 1 is huge than class 0:**"
      ]
    },
    {
      "cell_type": "code",
      "execution_count": null,
      "metadata": {
        "id": "JxEF5KSjlT0B"
      },
      "outputs": [],
      "source": [
        "#source https://stackoverflow.com/a/54791022/11437685\n",
        "\n",
        "#making our dataset balanced by dropping rows from class 1(becoz of resource limitation)\n",
        "def sampling_k_elements(group, k=57110):\n",
        "    if len(group) < k:\n",
        "        return group\n",
        "    return group.sample(k, random_state=42)\n",
        "\n",
        "balanced_data = new_data.groupby('Y').apply(sampling_k_elements).reset_index(drop=True)"
      ]
    },
    {
      "cell_type": "code",
      "execution_count": null,
      "metadata": {
        "id": "PVPU-BIrZUYZ"
      },
      "outputs": [],
      "source": [
        "X = balanced_data[\"Text\"].apply(lambda sent: sent.lower())\n",
        "Y = balanced_data[\"Y\"]"
      ]
    },
    {
      "cell_type": "code",
      "execution_count": null,
      "metadata": {
        "id": "wxn0nIpnnitn"
      },
      "outputs": [],
      "source": [
        "#balanced dataset\n",
        "print(X.shape, Y.value_counts(), sep=\"\\n\")"
      ]
    },
    {
      "cell_type": "code",
      "execution_count": null,
      "metadata": {
        "id": "duY0L3LrZUYa"
      },
      "outputs": [],
      "source": [
        "#balaced dataset\n",
        "(Y.value_counts()/Y.shape[0]).plot(kind='bar')"
      ]
    },
    {
      "cell_type": "markdown",
      "metadata": {
        "id": "QW-e68k3ooB9"
      },
      "source": [
        "##Text preprocessing:"
      ]
    },
    {
      "cell_type": "code",
      "execution_count": null,
      "metadata": {
        "id": "Xb8vAegcp_0N"
      },
      "outputs": [],
      "source": [
        "# https://stackoverflow.com/a/47091490/4084039\n",
        "\n",
        "def decontracted(phrase):\n",
        "    # specific\n",
        "    phrase = re.sub(r\"won't\", \"will not\", phrase)\n",
        "    phrase = re.sub(r\"can\\'t\", \"can not\", phrase)\n",
        "\n",
        "    # general\n",
        "    phrase = re.sub(r\"n\\'t\", \" not\", phrase)\n",
        "    phrase = re.sub(r\"\\'re\", \" are\", phrase)\n",
        "    phrase = re.sub(r\"\\'s\", \" is\", phrase)\n",
        "    phrase = re.sub(r\"\\'d\", \" would\", phrase)\n",
        "    phrase = re.sub(r\"\\'ll\", \" will\", phrase)\n",
        "    phrase = re.sub(r\"\\'t\", \" not\", phrase)\n",
        "    phrase = re.sub(r\"\\'ve\", \" have\", phrase)\n",
        "    phrase = re.sub(r\"\\'m\", \" am\", phrase)\n",
        "    return phrase"
      ]
    },
    {
      "cell_type": "code",
      "execution_count": null,
      "metadata": {
        "id": "eXj4E0RJDBsk"
      },
      "outputs": [],
      "source": [
        "nltk.download('stopwords')"
      ]
    },
    {
      "cell_type": "code",
      "execution_count": null,
      "metadata": {
        "id": "PpqFpAa2ZUYk"
      },
      "outputs": [],
      "source": [
        "stpwrds = stopwords.words('english')\n",
        "\n",
        "#removing some of the words from the stopwords since here these words are very useful for our task\n",
        "stpwrds.remove(\"not\")\n",
        "stpwrds.remove(\"nor\")\n",
        "stpwrds.remove(\"no\")"
      ]
    },
    {
      "cell_type": "code",
      "execution_count": null,
      "metadata": {
        "id": "YIm4XBUYtF4E"
      },
      "outputs": [],
      "source": [
        "#removing all the urls since not useful in classificatioin\n",
        "X = X.apply(lambda sent: re.sub(r\"http\\S+\", \"\", sent))\n",
        "\n",
        "#used for just getting text and removing all the html tags\n",
        "X = X.apply(lambda sent: BeautifulSoup(sent, 'lxml').get_text())\n",
        "\n",
        "#Decontracting\n",
        "X = X.apply(decontracted)\n",
        "\n",
        "#removing words with numbers and then removing extra spaces at start and end\n",
        "X = X.apply(lambda sent: re.sub(\"\\S*\\d\\S*\", \"\", sent).strip())\n",
        "\n",
        "X = X.apply(lambda sent: ' '.join(w for w in sent.split() if w not in stpwrds))"
      ]
    },
    {
      "cell_type": "markdown",
      "metadata": {
        "id": "8w8AOb-aCmWb"
      },
      "source": [
        "**Apply stemming:**"
      ]
    },
    {
      "cell_type": "markdown",
      "metadata": {
        "id": "IsI5RViQW3If"
      },
      "source": [
        "Here we will do stemming where the inflected words will get reduced to their root form i.e. word stem:"
      ]
    },
    {
      "cell_type": "code",
      "execution_count": null,
      "metadata": {
        "id": "HnKq2gFUV5f_"
      },
      "outputs": [],
      "source": [
        "nltk.download('punkt')"
      ]
    },
    {
      "cell_type": "code",
      "execution_count": null,
      "metadata": {
        "id": "al8RNA25V37R"
      },
      "outputs": [],
      "source": [
        "porter = PorterStemmer()"
      ]
    },
    {
      "cell_type": "code",
      "execution_count": null,
      "metadata": {
        "id": "5nW3tUKKaTqS"
      },
      "outputs": [],
      "source": [
        "def stemming(sent):\n",
        "    #getting actual word from the sent\n",
        "    tokens = word_tokenize(sent)\n",
        "    return \" \".join(porter.stem(w) for w in tokens)"
      ]
    },
    {
      "cell_type": "code",
      "execution_count": null,
      "metadata": {
        "id": "8KKI45NRbH_Z"
      },
      "outputs": [],
      "source": [
        "X = X.apply(stemming)"
      ]
    },
    {
      "cell_type": "code",
      "execution_count": null,
      "metadata": {
        "id": "QKtYhZILdefI"
      },
      "outputs": [],
      "source": [
        "#printing some random text\n",
        "print(X[10])"
      ]
    },
    {
      "cell_type": "code",
      "execution_count": null,
      "metadata": {
        "id": "UQAdink-ZUYe"
      },
      "outputs": [],
      "source": [
        "X_train, X_test, y_train, y_test = train_test_split(X, Y, test_size=0.1, random_state=42, stratify=Y)"
      ]
    },
    {
      "cell_type": "markdown",
      "metadata": {
        "id": "DOifvj859B9k"
      },
      "source": [
        "**Saving preprocessed data:**"
      ]
    },
    {
      "cell_type": "code",
      "execution_count": null,
      "metadata": {
        "id": "wbuaU2r39Cy6"
      },
      "outputs": [],
      "source": [
        "# X_train.to_csv(\"/content/drive/MyDrive/applied ai/myself work/amazon fine food reviews/preprocessed_data/X_train.csv\", index=False)\n",
        "# X_test.to_csv(\"/content/drive/MyDrive/applied ai/myself work/amazon fine food reviews/preprocessed_data/X_test.csv\", index=False)\n",
        "# y_train.to_csv(\"/content/drive/MyDrive/applied ai/myself work/amazon fine food reviews/preprocessed_data/y_train.csv\", index=False)\n",
        "# y_test.to_csv(\"/content/drive/MyDrive/applied ai/myself work/amazon fine food reviews/preprocessed_data/y_test.csv\", index=False)"
      ]
    },
    {
      "cell_type": "markdown",
      "metadata": {
        "id": "GFlNuKbK1Lg1"
      },
      "source": [
        "**Load preprocessed data:**"
      ]
    },
    {
      "cell_type": "code",
      "execution_count": null,
      "metadata": {
        "id": "IUf6Kta_2Je_"
      },
      "outputs": [],
      "source": [
        "# X_train1 = pd.read_csv(\"/content/drive/MyDrive/applied ai/myself work/amazon fine food reviews/preprocessed_data/X_train.csv\")[\"Text\"]\n",
        "# X_test1 = pd.read_csv(\"/content/drive/MyDrive/applied ai/myself work/amazon fine food reviews/preprocessed_data/X_test.csv\")[\"Text\"]\n",
        "y_train = np.array(pd.read_csv(\"/content/drive/MyDrive/applied ai/myself work/amazon fine food reviews/preprocessed_data/y_train.csv\")[\"Y\"])\n",
        "y_test = np.array(pd.read_csv(\"/content/drive/MyDrive/applied ai/myself work/amazon fine food reviews/preprocessed_data/y_test.csv\")[\"Y\"])"
      ]
    },
    {
      "cell_type": "markdown",
      "metadata": {
        "id": "aOebVSZJZUYg"
      },
      "source": [
        "## Featurization:"
      ]
    },
    {
      "cell_type": "markdown",
      "metadata": {
        "id": "Bf6FfpUrZUYm"
      },
      "source": [
        "### BOW vectorization:"
      ]
    },
    {
      "cell_type": "code",
      "execution_count": null,
      "metadata": {
        "id": "3t_RcvCPZUYn"
      },
      "outputs": [],
      "source": [
        "bow = CountVectorizer(ngram_range=(1,2), min_df=10, max_features=5000)\n",
        "X_train_bow = bow.fit_transform(X_train)"
      ]
    },
    {
      "cell_type": "code",
      "execution_count": null,
      "metadata": {
        "id": "EzsLwEf20s5Q"
      },
      "outputs": [],
      "source": [
        "X_test_bow = bow.transform(X_test)"
      ]
    },
    {
      "cell_type": "code",
      "execution_count": null,
      "metadata": {
        "id": "KNoxmP7nyByF"
      },
      "outputs": [],
      "source": [
        "#sparse matrix\n",
        "X_train_bow"
      ]
    },
    {
      "cell_type": "code",
      "execution_count": null,
      "metadata": {
        "id": "wjoYu5FByPQg"
      },
      "outputs": [],
      "source": [
        "#all the top selected features\n",
        "print(bow.get_feature_names_out())"
      ]
    },
    {
      "cell_type": "markdown",
      "metadata": {
        "id": "0XdVTaZfuMzS"
      },
      "source": [
        "**Saving preprocessed data:**"
      ]
    },
    {
      "cell_type": "code",
      "execution_count": null,
      "metadata": {
        "id": "QUN9a_Rxt41o"
      },
      "outputs": [],
      "source": [
        "# scipy.sparse.save_npz('/content/drive/MyDrive/applied ai/myself work/amazon fine food reviews/preprocessed_data/X_train_bow.npz', X_train_bow)\n",
        "# scipy.sparse.save_npz('/content/drive/MyDrive/applied ai/myself work/amazon fine food reviews/preprocessed_data/X_test_bow.npz', X_test_bow)"
      ]
    },
    {
      "cell_type": "markdown",
      "metadata": {
        "id": "8Iax4RtlBFup"
      },
      "source": [
        "**Loading preprocessed data:**"
      ]
    },
    {
      "cell_type": "code",
      "execution_count": null,
      "metadata": {
        "id": "XAAuriVXBIo1"
      },
      "outputs": [],
      "source": [
        "X_train_bow = scipy.sparse.load_npz('/content/drive/MyDrive/applied ai/myself work/amazon fine food reviews/preprocessed_data/X_train_bow.npz')\n",
        "X_test_bow = scipy.sparse.load_npz('/content/drive/MyDrive/applied ai/myself work/amazon fine food reviews/preprocessed_data/X_test_bow.npz')"
      ]
    },
    {
      "cell_type": "markdown",
      "metadata": {
        "id": "C8PHqw38kBd-"
      },
      "source": [
        "**Feature Normalisation**"
      ]
    },
    {
      "cell_type": "code",
      "execution_count": null,
      "metadata": {
        "id": "7AyeGsLcfdm0"
      },
      "outputs": [],
      "source": [
        "#using MaxAbsScaler becoz it works with the sparse and we have only +ve data and so similar to MinMaxScaler\n",
        "scaler_bow = MaxAbsScaler().fit(X_train_bow)"
      ]
    },
    {
      "cell_type": "code",
      "execution_count": null,
      "metadata": {
        "id": "yK5MIvbMijKN"
      },
      "outputs": [],
      "source": [
        "X_train_bow = scaler_bow.transform(X_train_bow)"
      ]
    },
    {
      "cell_type": "code",
      "execution_count": null,
      "metadata": {
        "id": "f6e7LT3Tj5vz"
      },
      "outputs": [],
      "source": [
        "X_test_bow = scaler_bow.transform(X_test_bow)"
      ]
    },
    {
      "cell_type": "markdown",
      "source": [
        "**Saving bow and scaler_bow:**"
      ],
      "metadata": {
        "id": "NRkRWcndNPT9"
      }
    },
    {
      "cell_type": "code",
      "source": [
        "#we will use it later for avoiding data leakage\n",
        "with open(\"/content/drive/MyDrive/applied ai/myself work/amazon fine food reviews/saved_vectorizer/bow_scaler.pkl\", 'wb') as f:\n",
        "    pickle.dump((bow, scaler_bow), f)"
      ],
      "metadata": {
        "id": "AfV3V3CLNWe1"
      },
      "execution_count": null,
      "outputs": []
    },
    {
      "cell_type": "markdown",
      "metadata": {
        "id": "YulgM_5v1eeB"
      },
      "source": [
        "###TFIDF Featurization:"
      ]
    },
    {
      "cell_type": "code",
      "execution_count": null,
      "metadata": {
        "id": "ikBoZNzm1wGf"
      },
      "outputs": [],
      "source": [
        "tfidf = TfidfVectorizer(ngram_range=(1,2), min_df=10, max_features=10000)\n",
        "X_train_tfidf = tfidf.fit_transform(X_train)"
      ]
    },
    {
      "cell_type": "code",
      "execution_count": null,
      "metadata": {
        "id": "Tt3_xkM12won"
      },
      "outputs": [],
      "source": [
        "X_test_tfidf = tfidf.transform(X_test)"
      ]
    },
    {
      "cell_type": "code",
      "execution_count": null,
      "metadata": {
        "id": "YUNvgkh_3pf4"
      },
      "outputs": [],
      "source": [
        "#a sparse matrix\n",
        "X_train_tfidf"
      ]
    },
    {
      "cell_type": "code",
      "execution_count": null,
      "metadata": {
        "id": "Qd9flG6H3wz7"
      },
      "outputs": [],
      "source": [
        "#all the top selected features\n",
        "print(tfidf.get_feature_names_out())"
      ]
    },
    {
      "cell_type": "markdown",
      "metadata": {
        "id": "MshFbA3b6j0B"
      },
      "source": [
        "**Saving preprocessed data:**"
      ]
    },
    {
      "cell_type": "code",
      "execution_count": null,
      "metadata": {
        "id": "NyX7RQSa6j0C"
      },
      "outputs": [],
      "source": [
        "# scipy.sparse.save_npz('/content/drive/MyDrive/applied ai/myself work/amazon fine food reviews/preprocessed_data/X_train_tfidf.npz', X_train_tfidf)\n",
        "# scipy.sparse.save_npz('/content/drive/MyDrive/applied ai/myself work/amazon fine food reviews/preprocessed_data/X_test_tfidf.npz', X_test_tfidf)"
      ]
    },
    {
      "cell_type": "markdown",
      "metadata": {
        "id": "QKDbuzJG8n9L"
      },
      "source": [
        "**Loading preprocessed data:**"
      ]
    },
    {
      "cell_type": "code",
      "execution_count": null,
      "metadata": {
        "id": "h4E3y3hy8jwP"
      },
      "outputs": [],
      "source": [
        "X_train_tfidf = scipy.sparse.load_npz('/content/drive/MyDrive/applied ai/myself work/amazon fine food reviews/preprocessed_data/X_train_tfidf.npz')\n",
        "X_test_tfidf = scipy.sparse.load_npz('/content/drive/MyDrive/applied ai/myself work/amazon fine food reviews/preprocessed_data/X_test_tfidf.npz')"
      ]
    },
    {
      "cell_type": "markdown",
      "metadata": {
        "id": "NUU_MOuX0ZBX"
      },
      "source": [
        "**Feature Normalisation**"
      ]
    },
    {
      "cell_type": "code",
      "execution_count": null,
      "metadata": {
        "id": "-ZXFB4BW0ZBY"
      },
      "outputs": [],
      "source": [
        "#using MaxAbsScaler becoz it works with the sparse and we have only +ve data and so similar to MinMaxScaler\n",
        "scaler_tfidf = MaxAbsScaler().fit(X_train_tfidf)"
      ]
    },
    {
      "cell_type": "code",
      "execution_count": null,
      "metadata": {
        "id": "mZPOf8mB0ZBY"
      },
      "outputs": [],
      "source": [
        "X_train_tfidf = scaler_tfidf.transform(X_train_tfidf)"
      ]
    },
    {
      "cell_type": "code",
      "execution_count": null,
      "metadata": {
        "id": "e2WG2FGh0ZBY"
      },
      "outputs": [],
      "source": [
        "X_test_tfidf = scaler_tfidf.transform(X_test_tfidf)"
      ]
    },
    {
      "cell_type": "markdown",
      "metadata": {
        "id": "P8VNcbiEZUYx"
      },
      "source": [
        "### Word2Vec Vectorization:"
      ]
    },
    {
      "cell_type": "code",
      "execution_count": null,
      "metadata": {
        "id": "wwt-ZkZ9ZUYx"
      },
      "outputs": [],
      "source": [
        "# !pip install gdown\n",
        "#downloading a pretrained model by google\n",
        "# !gdown --id \"https://drive.google.com/uc?id=0B7XkCwpI5KDYNlNUTTlSS21pQmM\""
      ]
    },
    {
      "cell_type": "code",
      "execution_count": null,
      "metadata": {
        "id": "FosTmTg1ZUYx"
      },
      "outputs": [],
      "source": [
        "\n",
        "#using a pretrained model by google\n",
        "if os.path.isfile('/content/drive/MyDrive/applied ai/myself work/amazon fine food reviews/GoogleNews-vectors-negative300.bin.gz'):\n",
        "    w2v_model=KeyedVectors.load_word2vec_format('/content/drive/MyDrive/applied ai/myself work/amazon fine food reviews/GoogleNews-vectors-negative300.bin.gz', binary=True)"
      ]
    },
    {
      "cell_type": "markdown",
      "metadata": {
        "id": "FaP9tEfkZUYx"
      },
      "source": [
        "### Avg Word2Vec"
      ]
    },
    {
      "cell_type": "code",
      "execution_count": null,
      "metadata": {
        "id": "AOnDIlnXZUYx"
      },
      "outputs": [],
      "source": [
        "#All the learned vocabulary \n",
        "# vocab = w2v_model.key_to_index\n",
        "vocab = w2v_model.vocab"
      ]
    },
    {
      "cell_type": "code",
      "execution_count": null,
      "metadata": {
        "id": "VPoDtZF1ZUYx"
      },
      "outputs": [],
      "source": [
        "#func for avgW2V\n",
        "def avgW2vec(sent):\n",
        "    lst_wrds = sent.split(\" \")\n",
        "    #store avgw2v of size 300\n",
        "    avg_w2v = np.zeros(300,dtype='float64')\n",
        "    for w in lst_wrds:\n",
        "        if w in vocab:\n",
        "            avg_w2v += w2v_model[w]\n",
        "    n = len(lst_wrds)\n",
        "    if n != 0: avg_w2v /= n\n",
        "    else: raise Exception(f\"Here len(query) can't be {n}\")\n",
        "    return avg_w2v\n",
        "\n",
        "#avgW2vec on each sent in X_train\n",
        "X_train_avgw2v = X_train.apply(avgW2vec)"
      ]
    },
    {
      "cell_type": "code",
      "execution_count": null,
      "metadata": {
        "id": "z1UnnZQQZUYy"
      },
      "outputs": [],
      "source": [
        "#Having some problems of dtype and dims, when directly converting to np array and so first series to list and then list to np array\n",
        "X_train_avgw2v = X_train_avgw2v.to_list()\n",
        "X_train_avgw2v = np.array(X_train_avgw2v)"
      ]
    },
    {
      "cell_type": "code",
      "execution_count": null,
      "metadata": {
        "id": "f0NtGCAKZUYy"
      },
      "outputs": [],
      "source": [
        "X_test_avgw2v = X_test.apply(avgW2vec)"
      ]
    },
    {
      "cell_type": "code",
      "execution_count": null,
      "metadata": {
        "id": "z6wqPlUVZUYy"
      },
      "outputs": [],
      "source": [
        "#Having some problems of dtype and dims, when directly converting to np array and so first series to list and then list to np array\n",
        "X_test_avgw2v = X_test_avgw2v.to_list()\n",
        "X_test_avgw2v = np.array(X_test_avgw2v)"
      ]
    },
    {
      "cell_type": "markdown",
      "metadata": {
        "id": "qm0MIiXgT3dv"
      },
      "source": [
        "**Saving preprocessed data:**"
      ]
    },
    {
      "cell_type": "code",
      "execution_count": null,
      "metadata": {
        "id": "QYpqQFKYT3dv"
      },
      "outputs": [],
      "source": [
        "# with open('/content/drive/MyDrive/applied ai/myself work/amazon fine food reviews/preprocessed_data/X_train_avgw2v.npz', \"wb\") as f:\n",
        "#     np.save(f, X_train_avgw2v)\n",
        "\n",
        "# with open('/content/drive/MyDrive/applied ai/myself work/amazon fine food reviews/preprocessed_data/X_test_avgw2v.npz', \"wb\") as f:\n",
        "#     np.save(f, X_test_avgw2v)"
      ]
    },
    {
      "cell_type": "markdown",
      "metadata": {
        "id": "sa1p9WrXT3dv"
      },
      "source": [
        "**Loading preprocessed data:**"
      ]
    },
    {
      "cell_type": "code",
      "execution_count": null,
      "metadata": {
        "id": "8bwKNy_1T3dv"
      },
      "outputs": [],
      "source": [
        "with open('/content/drive/MyDrive/applied ai/myself work/amazon fine food reviews/preprocessed_data/X_train_avgw2v.npz', \"rb\") as f:\n",
        "    X_train_avgw2v = np.load(f)\n",
        "\n",
        "with open('/content/drive/MyDrive/applied ai/myself work/amazon fine food reviews/preprocessed_data/X_test_avgw2v.npz', \"rb\") as f:\n",
        "    X_test_avgw2v = np.load(f)"
      ]
    },
    {
      "cell_type": "markdown",
      "metadata": {
        "id": "mzHR4CSEyHT6"
      },
      "source": [
        "**Feature Normalisation**"
      ]
    },
    {
      "cell_type": "code",
      "execution_count": null,
      "metadata": {
        "id": "PlhqxaoUyHT6"
      },
      "outputs": [],
      "source": [
        "scaler_avgw2v = MinMaxScaler().fit(X_train_avgw2v)"
      ]
    },
    {
      "cell_type": "code",
      "execution_count": null,
      "metadata": {
        "id": "HbxQUiuYyHT7"
      },
      "outputs": [],
      "source": [
        "X_train_avgw2v = scaler_avgw2v.transform(X_train_avgw2v)"
      ]
    },
    {
      "cell_type": "code",
      "execution_count": null,
      "metadata": {
        "id": "S4cdyFBHyHT7"
      },
      "outputs": [],
      "source": [
        "X_test_avgw2v = scaler_avgw2v.transform(X_test_avgw2v)"
      ]
    },
    {
      "cell_type": "markdown",
      "metadata": {
        "id": "fHBudLS6ZUY1"
      },
      "source": [
        "### TFIDF-W2V"
      ]
    },
    {
      "cell_type": "code",
      "execution_count": null,
      "metadata": {
        "id": "3N2N6Ct0ZUY1"
      },
      "outputs": [],
      "source": [
        "#getting all the feature names used in tfidf for tfidf-w2v\n",
        "idf_dict = dict(zip(tfidf.get_feature_names_out(), list(tfidf.idf_)))"
      ]
    },
    {
      "cell_type": "code",
      "execution_count": null,
      "metadata": {
        "id": "k2xngaJSZUY1"
      },
      "outputs": [],
      "source": [
        "#func for avgW2V\n",
        "def tfidfW2V(sent):\n",
        "    #storing all tfidf of each word for computing total tfidf of a sent\n",
        "    tfidf_vec = list()\n",
        "    \n",
        "    #splitting and counting # of each words in sent\n",
        "    lst_wrds = sent.split(\" \")\n",
        "    cnt_wrds = Counter(lst_wrds)\n",
        "    #n for computing the tf\n",
        "    n = len(lst_wrds)\n",
        "    \n",
        "    #store avgw2v of size 300\n",
        "    tfidf_w2v = np.zeros(300,dtype='float64')\n",
        "    \n",
        "    for w in cnt_wrds:\n",
        "        if w in vocab:\n",
        "            try:\n",
        "                idf = idf_dict[w]\n",
        "                tf = cnt_wrds[w]/n\n",
        "                tfidf = tf*idf\n",
        "                \n",
        "                #adding for computing total tfidf\n",
        "                tfidf_vec.append(tfidf)\n",
        "\n",
        "            except:\n",
        "                continue\n",
        "                \n",
        "            tfidf_w2v += w2v_model[w]*tfidf\n",
        "            \n",
        "    total_tfidf = np.sum(tfidf_vec)\n",
        "    if total_tfidf != 0: tfidf_w2v /= total_tfidf\n",
        "#     else: raise Exception(f\"Here total_tfidf can't be {total_tfidf} for sent at index {sent_i}\")\n",
        "    return tfidf_w2v\n",
        "\n",
        "#tfidfW2vec on each sent in X_train\n",
        "X_train_tfidf_w2v = X_train.apply(tfidfW2V)"
      ]
    },
    {
      "cell_type": "code",
      "execution_count": null,
      "metadata": {
        "id": "x3NqM3MQZUY1"
      },
      "outputs": [],
      "source": [
        "#Having some problems of dtype and dims, when directly converting to np array and so first series to list and then list to np array\n",
        "X_train_tfidf_w2v = X_train_tfidf_w2v.to_list()\n",
        "X_train_tfidf_w2v = np.array(X_train_tfidf_w2v)"
      ]
    },
    {
      "cell_type": "code",
      "execution_count": null,
      "metadata": {
        "id": "UEGN205SZUY2"
      },
      "outputs": [],
      "source": [
        "#bug in colledting at X_test.iloc[12478]"
      ]
    },
    {
      "cell_type": "code",
      "execution_count": null,
      "metadata": {
        "id": "eD8kR-CtZUY2"
      },
      "outputs": [],
      "source": [
        "#Having some problems of dtype and dims, when directly converting to np array and so first series to list and then list to np array\n",
        "X_test_tfidf_w2v = X_test.apply(tfidfW2V)\n",
        "\n",
        "X_test_tfidf_w2v = X_test_tfidf_w2v.to_list()\n",
        "X_test_tfidf_w2v = np.array(X_test_tfidf_w2v)"
      ]
    },
    {
      "cell_type": "markdown",
      "metadata": {
        "id": "xWRTtEKPdHo8"
      },
      "source": [
        "**Saving preprocessed data:**"
      ]
    },
    {
      "cell_type": "code",
      "execution_count": null,
      "metadata": {
        "id": "nsmWqkaLdHo9"
      },
      "outputs": [],
      "source": [
        "# with open('/content/drive/MyDrive/applied ai/myself work/amazon fine food reviews/preprocessed_data/X_train_tfidf_w2v.npz', \"wb\") as f:\n",
        "#     np.save(f, X_train_tfidf_w2v)\n",
        "\n",
        "# with open('/content/drive/MyDrive/applied ai/myself work/amazon fine food reviews/preprocessed_data/X_test_tfidf_w2v.npz', \"wb\") as f:\n",
        "#     np.save(f, X_test_tfidf_w2v)"
      ]
    },
    {
      "cell_type": "markdown",
      "metadata": {
        "id": "1YHm_vWBdHo9"
      },
      "source": [
        "**Loading preprocessed data:**"
      ]
    },
    {
      "cell_type": "code",
      "execution_count": null,
      "metadata": {
        "id": "exXB5pTYdHo9"
      },
      "outputs": [],
      "source": [
        "with open('/content/drive/MyDrive/applied ai/myself work/amazon fine food reviews/preprocessed_data/X_train_tfidf_w2v.npz', \"rb\") as f:\n",
        "    X_train_tfidfw2v = np.load(f)\n",
        "\n",
        "with open('/content/drive/MyDrive/applied ai/myself work/amazon fine food reviews/preprocessed_data/X_test_avgw2v.npz', \"rb\") as f:\n",
        "    X_test_tfidfw2v = np.load(f)"
      ]
    },
    {
      "cell_type": "markdown",
      "metadata": {
        "id": "wQpFEQ1QUzTS"
      },
      "source": [
        "**Feature Normalisation**"
      ]
    },
    {
      "cell_type": "code",
      "execution_count": null,
      "metadata": {
        "id": "bUG6ia_uUzTS"
      },
      "outputs": [],
      "source": [
        "scaler_tfidfw2v = MinMaxScaler().fit(X_train_tfidfw2v)"
      ]
    },
    {
      "cell_type": "code",
      "execution_count": null,
      "metadata": {
        "id": "LGyscCZmUzTS"
      },
      "outputs": [],
      "source": [
        "X_train_tfidfw2v = scaler_tfidfw2v.transform(X_train_tfidfw2v)"
      ]
    },
    {
      "cell_type": "code",
      "execution_count": null,
      "metadata": {
        "id": "PHnji46JUzTT"
      },
      "outputs": [],
      "source": [
        "X_test_tfidfw2v = scaler_tfidfw2v.transform(X_test_tfidfw2v)"
      ]
    },
    {
      "cell_type": "markdown",
      "metadata": {
        "id": "7JU2eXGnZUYp"
      },
      "source": [
        "# ML models using bow"
      ]
    },
    {
      "cell_type": "markdown",
      "metadata": {
        "id": "lUCqaMqhZUYp"
      },
      "source": [
        "## Applying MNB"
      ]
    },
    {
      "cell_type": "code",
      "execution_count": null,
      "metadata": {
        "id": "9mJXNNb0ZUYp"
      },
      "outputs": [],
      "source": [
        "mnb = MultinomialNB()\n",
        "\n",
        "parameters = {'alpha': [0.0001, 0.01, 0.1, 1, 10, 100]}\n",
        "mnb_tune = GridSearchCV(mnb, parameters, n_jobs=-1, verbose=2)\n",
        "mnb_tune.fit(X_train_bow, y_train)"
      ]
    },
    {
      "cell_type": "code",
      "execution_count": null,
      "metadata": {
        "id": "kgUItxKlZUYq"
      },
      "outputs": [],
      "source": [
        "(mnb_tune.cv_results_)"
      ]
    },
    {
      "cell_type": "code",
      "execution_count": null,
      "metadata": {
        "id": "tDR_8sIhZUYr"
      },
      "outputs": [],
      "source": [
        "#mnb with best hyperparameter\n",
        "best_mnb = mnb_tune.best_estimator_"
      ]
    },
    {
      "cell_type": "markdown",
      "metadata": {
        "id": "t4P9JtGbZUYr"
      },
      "source": [
        "### Performance of mnb model"
      ]
    },
    {
      "cell_type": "code",
      "execution_count": null,
      "metadata": {
        "id": "SSm8o3GF9cDe"
      },
      "outputs": [],
      "source": [
        "#train predicted probability\n",
        "train_proba = best_mnb.predict_proba(X_train_bow)\n",
        "\n",
        "#test predicted probability\n",
        "test_proba = best_mnb.predict_proba(X_test_bow)"
      ]
    },
    {
      "cell_type": "code",
      "execution_count": null,
      "metadata": {
        "id": "A1qA19Q9ZUYs"
      },
      "outputs": [],
      "source": [
        "#train predicted\n",
        "y_train_predict = best_mnb.predict(X_train_bow)\n",
        "\n",
        "#test predicted\n",
        "y_test_predict = best_mnb.predict(X_test_bow)"
      ]
    },
    {
      "cell_type": "code",
      "execution_count": null,
      "metadata": {
        "id": "mUfpi5Z2ZUYs"
      },
      "outputs": [],
      "source": [
        "#accuracy score on the train data\n",
        "accuracy_score(y_train, y_train_predict)"
      ]
    },
    {
      "cell_type": "code",
      "execution_count": null,
      "metadata": {
        "id": "2sbNEaDTZUYs"
      },
      "outputs": [],
      "source": [
        "#accuracy score on the test data\n",
        "accuracy_score(y_test, y_test_predict)"
      ]
    },
    {
      "cell_type": "code",
      "execution_count": null,
      "metadata": {
        "id": "n_fQiUoeZUYt"
      },
      "outputs": [],
      "source": [
        "#confusion_matrix on train data\n",
        "\n",
        "#rows are actural label in ascending order i.e. 0 then 1 and cols are predicted labels\n",
        "confusion_matrix(y_train, y_train_predict, normalize='true')"
      ]
    },
    {
      "cell_type": "code",
      "execution_count": null,
      "metadata": {
        "id": "YAZUUo0TZUYt"
      },
      "outputs": [],
      "source": [
        "#confusion_matrix on test data\n",
        "#rows are actual label in ascending order i.e. 0 then 1 and cols are predicted labels\n",
        "confusion_matrix(y_test, y_test_predict, normalize='true')"
      ]
    },
    {
      "cell_type": "code",
      "execution_count": null,
      "metadata": {
        "id": "OVX7IJ2Tu0jb"
      },
      "outputs": [],
      "source": [
        "\n",
        "#f1_score on the train data\n",
        "print(f1_score(y_train, y_train_predict))\n",
        "\n",
        "#f1_score on the test data\n",
        "print(f1_score(y_test, y_test_predict))"
      ]
    },
    {
      "cell_type": "markdown",
      "metadata": {
        "id": "SHTeXWKZZUYt"
      },
      "source": [
        "**Observation: Performance is good. From confusion matrix, we can say approx 11% of +ve data predicted as -ve and approx 13% of -ve data predicted as +ve on the test data.**"
      ]
    },
    {
      "cell_type": "markdown",
      "metadata": {
        "id": "7E643TbM_z_0"
      },
      "source": [
        "**Saving trained model:**"
      ]
    },
    {
      "cell_type": "code",
      "execution_count": null,
      "metadata": {
        "id": "Uli5c4NV_z_0"
      },
      "outputs": [],
      "source": [
        "joblib.dump(best_mnb, \"/content/drive/MyDrive/applied ai/myself work/amazon fine food reviews/saved_models/best_mnb_bow.sav\")"
      ]
    },
    {
      "cell_type": "markdown",
      "metadata": {
        "id": "k_4V_4xt_z_0"
      },
      "source": [
        "**Loading trained data:**"
      ]
    },
    {
      "cell_type": "code",
      "execution_count": null,
      "metadata": {
        "id": "d7SLt3H3_z_0"
      },
      "outputs": [],
      "source": [
        "best_mnb = joblib.load(\"/content/drive/MyDrive/applied ai/myself work/amazon fine food reviews/saved_models/best_mnb_bow.sav\")"
      ]
    },
    {
      "cell_type": "markdown",
      "metadata": {
        "id": "1PxP9gXYZUYu"
      },
      "source": [
        "##Applying Logistic regression"
      ]
    },
    {
      "cell_type": "code",
      "execution_count": null,
      "metadata": {
        "id": "ikQKCnAfNXCJ"
      },
      "outputs": [],
      "source": [
        "#max_iter=1000 becoz of high value of C(for small learning rate) below like 100 for converging to minm\n",
        "lgr = LogisticRegression(max_iter=1000)\n",
        "\n",
        "parameters = {'C':[0.0001, 0.001, 0.01, 0.1, 1, 10, 100]}\n",
        "lgr_tune = GridSearchCV(lgr, parameters, n_jobs=-1, verbose=2)\n",
        "lgr_tune.fit(X_train_bow, y_train)"
      ]
    },
    {
      "cell_type": "code",
      "execution_count": null,
      "metadata": {
        "id": "ThlXB870NXCK"
      },
      "outputs": [],
      "source": [
        "(lgr_tune.cv_results_)"
      ]
    },
    {
      "cell_type": "code",
      "execution_count": null,
      "metadata": {
        "id": "PyGMvonGNXCL"
      },
      "outputs": [],
      "source": [
        "#lgr with best hyperparameter\n",
        "best_lgr = lgr_tune.best_estimator_"
      ]
    },
    {
      "cell_type": "markdown",
      "metadata": {
        "id": "mLLhHPMbNXCL"
      },
      "source": [
        "### Performance of lgr model"
      ]
    },
    {
      "cell_type": "code",
      "execution_count": null,
      "metadata": {
        "id": "H5wiwqdKNXCN"
      },
      "outputs": [],
      "source": [
        "#train predicted probability\n",
        "train_proba = best_lgr.predict_proba(X_train_bow)\n",
        "\n",
        "#test predicted probability\n",
        "test_proba = best_lgr.predict_proba(X_test_bow)"
      ]
    },
    {
      "cell_type": "code",
      "execution_count": null,
      "metadata": {
        "id": "0Z3Ua__AKyio"
      },
      "outputs": [],
      "source": [
        "#train predicted\n",
        "y_train_predict = best_lgr.predict(X_train_bow)\n",
        "\n",
        "#test predicted\n",
        "y_test_predict = best_lgr.predict(X_test_bow)"
      ]
    },
    {
      "cell_type": "code",
      "execution_count": null,
      "metadata": {
        "id": "E439anFnNXCO"
      },
      "outputs": [],
      "source": [
        "#accuracy score on the train data\n",
        "accuracy_score(y_train, y_train_predict)"
      ]
    },
    {
      "cell_type": "code",
      "execution_count": null,
      "metadata": {
        "id": "SQh5RjxhNXCO"
      },
      "outputs": [],
      "source": [
        "#accuracy score on the test data\n",
        "accuracy_score(y_test, y_test_predict)"
      ]
    },
    {
      "cell_type": "code",
      "execution_count": null,
      "metadata": {
        "id": "fwP9N9Q9NXCP"
      },
      "outputs": [],
      "source": [
        "#confusion_matrix on train data\n",
        "\n",
        "#rows are actual label in ascending order i.e. 0 then 1 and cols are predicted labels\n",
        "confusion_matrix(y_train, y_train_predict, normalize='true')"
      ]
    },
    {
      "cell_type": "code",
      "execution_count": null,
      "metadata": {
        "id": "KB_NSiQDNXCP"
      },
      "outputs": [],
      "source": [
        "#confusion_matrix on test data\n",
        "#rows are actual label in ascending order i.e. 0 then 1 and cols are predicted labels\n",
        "confusion_matrix(y_test, y_test_predict, normalize='true')"
      ]
    },
    {
      "cell_type": "code",
      "execution_count": null,
      "metadata": {
        "id": "MMFpZT1IsvJG"
      },
      "outputs": [],
      "source": [
        "\n",
        "#f1_score on the train data\n",
        "print(f1_score(y_train, y_train_predict))\n",
        "\n",
        "#f1_score on the test data\n",
        "print(f1_score(y_test, y_test_predict))"
      ]
    },
    {
      "cell_type": "markdown",
      "metadata": {
        "id": "pxotO2eGNXCQ"
      },
      "source": [
        "**Observation: Performance is fairly better than the knn. Also by looking at the confusion matrix, we can say performance is not bias towards any class**"
      ]
    },
    {
      "cell_type": "markdown",
      "metadata": {
        "id": "xeyj4-V7Ks5H"
      },
      "source": [
        "**Saving trained model:**"
      ]
    },
    {
      "cell_type": "code",
      "execution_count": null,
      "metadata": {
        "id": "Un96fM5QKs5H"
      },
      "outputs": [],
      "source": [
        "# joblib.dump(best_lgr, \"/content/drive/MyDrive/applied ai/myself work/amazon fine food reviews/saved_models/best_lgr.sav\")"
      ]
    },
    {
      "cell_type": "markdown",
      "metadata": {
        "id": "j8Jeue-YKs5H"
      },
      "source": [
        "**Loading trained data:**"
      ]
    },
    {
      "cell_type": "code",
      "execution_count": null,
      "metadata": {
        "id": "JCXWJoImKs5H"
      },
      "outputs": [],
      "source": [
        "best_lgr = joblib.load(\"/content/drive/MyDrive/applied ai/myself work/amazon fine food reviews/saved_models/best_lgr.sav\")"
      ]
    },
    {
      "cell_type": "markdown",
      "metadata": {
        "id": "Liq7oZ32ZUY4"
      },
      "source": [
        "## Applying DNN"
      ]
    },
    {
      "cell_type": "code",
      "source": [
        "#splitting train data into validation and the train set\n",
        "X_train_bow = X_train_bow.toarray()\n",
        "X_test_bow = X_test_bow.toarray()\n",
        "X_valid_bow, X_train_bow = X_train_bow[:10000], X_train_bow[10000:]\n",
        "y_valid, y_train = y_train[:10000], y_train[10000:]"
      ],
      "metadata": {
        "id": "3gagTSENWGDt"
      },
      "execution_count": null,
      "outputs": []
    },
    {
      "cell_type": "code",
      "execution_count": null,
      "metadata": {
        "id": "Pja3aEkHZUY4"
      },
      "outputs": [],
      "source": [
        "#applying simple NN with dropouts\n",
        "dnn = tf.keras.models.Sequential([\n",
        "  tf.keras.layers.InputLayer(input_shape=(X_train_bow.shape[1],)),\n",
        "  tf.keras.layers.Dense(128, activation='elu'),\n",
        "  tf.keras.layers.Dropout(0.2),\n",
        "  tf.keras.layers.Dense(128, activation='elu'),\n",
        "  tf.keras.layers.Dropout(0.2),\n",
        "  tf.keras.layers.Dense(1, activation='sigmoid')\n",
        "])"
      ]
    },
    {
      "cell_type": "code",
      "execution_count": null,
      "metadata": {
        "id": "j65H3iRqvyE1"
      },
      "outputs": [],
      "source": [
        "# compile the keras model\n",
        "dnn.compile(loss='binary_crossentropy', optimizer='sgd', metrics=['accuracy'])"
      ]
    },
    {
      "cell_type": "code",
      "source": [
        "early_stopping_cb = tf.keras.callbacks.EarlyStopping(patience=10, restore_best_weights=True)"
      ],
      "metadata": {
        "id": "2ix7Vfgmke39"
      },
      "execution_count": null,
      "outputs": []
    },
    {
      "cell_type": "code",
      "execution_count": null,
      "metadata": {
        "id": "7k77x9cgZUY5"
      },
      "outputs": [],
      "source": [
        "history = dnn.fit(X_train_bow, y_train, epochs=30, validation_data=(X_valid_bow, y_valid), callbacks=[early_stopping_cb])"
      ]
    },
    {
      "cell_type": "markdown",
      "metadata": {
        "id": "1yjGbJZRzGhy"
      },
      "source": [
        "### Performance of DNN model"
      ]
    },
    {
      "cell_type": "code",
      "metadata": {
        "id": "8oZffoZsb1hl"
      },
      "source": [
        "import pandas as pd\n",
        "import matplotlib.pyplot as plt\n",
        "pd.DataFrame(history.history).plot(figsize=(8, 5))\n",
        "plt.grid(True)\n",
        "plt.gca().set_ylim(0, 1) # set the vertical range to [0-1]\n",
        "plt.show()"
      ],
      "execution_count": null,
      "outputs": []
    },
    {
      "cell_type": "code",
      "source": [
        "dnn.evaluate(X_train_bow, y_train, batch_size=128)"
      ],
      "metadata": {
        "id": "Wk-U0PP4H2_k"
      },
      "execution_count": null,
      "outputs": []
    },
    {
      "cell_type": "code",
      "source": [
        "dnn.evaluate(X_test_bow, y_test, batch_size=128)"
      ],
      "metadata": {
        "id": "CAyLdxzsGFBf"
      },
      "execution_count": null,
      "outputs": []
    },
    {
      "cell_type": "code",
      "execution_count": null,
      "metadata": {
        "id": "TengdnQMzGhz"
      },
      "outputs": [],
      "source": [
        "#train predicted probability\n",
        "train_proba = dnn.predict(X_train_bow)\n",
        "\n",
        "#test predicted probability\n",
        "test_proba = dnn.predict(X_test_bow)"
      ]
    },
    {
      "cell_type": "code",
      "execution_count": null,
      "metadata": {
        "id": "d8dj-pf-xx-7"
      },
      "outputs": [],
      "source": [
        "#predicted classes on train data\n",
        "y_train_predict = train_proba >0.5\n",
        "\n",
        "#predicted classes on test data\n",
        "y_test_predict = test_proba>0.5"
      ]
    },
    {
      "cell_type": "code",
      "execution_count": null,
      "metadata": {
        "id": "_qrh57VAyu7k"
      },
      "outputs": [],
      "source": [
        "#accuracy score on train data\n",
        "accuracy_score(y_train,y_train_predict)"
      ]
    },
    {
      "cell_type": "code",
      "execution_count": null,
      "metadata": {
        "id": "JTBOyXTeZUY5"
      },
      "outputs": [],
      "source": [
        "#accuracy score on test data\n",
        "accuracy_score(y_test,y_test_predict)"
      ]
    },
    {
      "cell_type": "code",
      "execution_count": null,
      "metadata": {
        "id": "sqe6GfSXzGh0"
      },
      "outputs": [],
      "source": [
        "#confusion_matrix on train data\n",
        "\n",
        "#rows are actual label in ascending order i.e. 0 then 1 and cols are predicted labels\n",
        "confusion_matrix(y_train, y_train_predict, normalize='true')"
      ]
    },
    {
      "cell_type": "code",
      "execution_count": null,
      "metadata": {
        "id": "fILU-WD6zGh0"
      },
      "outputs": [],
      "source": [
        "#confusion_matrix on test data\n",
        "#rows are actual label in ascending order i.e. 0 then 1 and cols are predicted labels\n",
        "confusion_matrix(y_test, y_test_predict, normalize='true')"
      ]
    },
    {
      "cell_type": "code",
      "execution_count": null,
      "metadata": {
        "id": "hYbGDV2qzGh0"
      },
      "outputs": [],
      "source": [
        "from sklearn.metrics import f1_score\n",
        "\n",
        "#f1_score on the train data\n",
        "print(f1_score(y_train, y_train_predict))\n",
        "\n",
        "#f1_score on the test data\n",
        "print(f1_score(y_test, y_test_predict))"
      ]
    },
    {
      "cell_type": "markdown",
      "metadata": {
        "id": "l5-zJ2iTzGh0"
      },
      "source": [
        "**Observation: Here we are overfittng little bit, certainly we need to tune our model hyperparameters or apply regularization for getting the good performance on the test set as well.**"
      ]
    },
    {
      "cell_type": "code",
      "source": [
        "#model saving path\n",
        "model_version = \"0001\"\n",
        "model_path = \"/content/drive/MyDrive/applied ai/myself work/amazon fine food reviews/saved_models/dnn_bow\""
      ],
      "metadata": {
        "id": "F_jDmYMxMfab"
      },
      "execution_count": null,
      "outputs": []
    },
    {
      "cell_type": "markdown",
      "metadata": {
        "id": "d5z1olExzGh0"
      },
      "source": [
        "**Saving trained model:**"
      ]
    },
    {
      "cell_type": "code",
      "source": [
        "import os"
      ],
      "metadata": {
        "id": "ssLhuGRB8iEC"
      },
      "execution_count": null,
      "outputs": []
    },
    {
      "cell_type": "code",
      "execution_count": null,
      "metadata": {
        "id": "ffMFEboEzGh1"
      },
      "outputs": [],
      "source": [
        "# model_path = os.path.join(model_path, model_version)\n",
        "# dnn.save(model_path)"
      ]
    },
    {
      "cell_type": "markdown",
      "metadata": {
        "id": "Muy3UQUjzGh1"
      },
      "source": [
        "**Loading trained data:**"
      ]
    },
    {
      "cell_type": "code",
      "execution_count": null,
      "metadata": {
        "id": "SAOUnb0hzGh1"
      },
      "outputs": [],
      "source": [
        "new_model = tf.keras.models.load_model(model_path)"
      ]
    },
    {
      "cell_type": "code",
      "source": [
        "new_model.summary()"
      ],
      "metadata": {
        "id": "wT1WTYWAJKnV"
      },
      "execution_count": null,
      "outputs": []
    },
    {
      "cell_type": "markdown",
      "metadata": {
        "id": "bEtXk0hsFOVj"
      },
      "source": [
        "# ML models using TFIDF"
      ]
    },
    {
      "cell_type": "markdown",
      "metadata": {
        "id": "kW0IePC3APx_"
      },
      "source": [
        "## Applying MNB"
      ]
    },
    {
      "cell_type": "code",
      "execution_count": null,
      "metadata": {
        "id": "k9AbYdX8APyA"
      },
      "outputs": [],
      "source": [
        "mnb = MultinomialNB()\n",
        "\n",
        "parameters = {'alpha': [0.0001, 0.01, 0.1, 1, 10, 100]}\n",
        "mnb_tune = GridSearchCV(mnb, parameters, n_jobs=-1, verbose=2)\n",
        "mnb_tune.fit(X_train_tfidf, y_train)"
      ]
    },
    {
      "cell_type": "code",
      "execution_count": null,
      "metadata": {
        "id": "xqRqQeo_APyA"
      },
      "outputs": [],
      "source": [
        "(mnb_tune.cv_results_)"
      ]
    },
    {
      "cell_type": "code",
      "execution_count": null,
      "metadata": {
        "id": "eF4XPatlAPyA"
      },
      "outputs": [],
      "source": [
        "#mnb with best hyperparameter\n",
        "best_mnb = mnb_tune.best_estimator_"
      ]
    },
    {
      "cell_type": "markdown",
      "metadata": {
        "id": "ROOiAZtgAPyB"
      },
      "source": [
        "### Performance of mnb model"
      ]
    },
    {
      "cell_type": "code",
      "execution_count": null,
      "metadata": {
        "id": "XmyO17eUAPyB"
      },
      "outputs": [],
      "source": [
        "#train predicted probability\n",
        "train_proba = best_mnb.predict_proba(X_train_tfidf)\n",
        "\n",
        "#test predicted probability\n",
        "test_proba = best_mnb.predict_proba(X_test_tfidf)"
      ]
    },
    {
      "cell_type": "code",
      "execution_count": null,
      "metadata": {
        "id": "jTTUqDNpAPyB"
      },
      "outputs": [],
      "source": [
        "#train predicted\n",
        "y_train_predict = best_mnb.predict(X_train_tfidf)\n",
        "\n",
        "#test predicted\n",
        "y_test_predict = best_mnb.predict(X_test_tfidf)"
      ]
    },
    {
      "cell_type": "code",
      "execution_count": null,
      "metadata": {
        "id": "Anpr5DmRAPyB"
      },
      "outputs": [],
      "source": [
        "#accuracy score on the train data\n",
        "accuracy_score(y_train, y_train_predict)"
      ]
    },
    {
      "cell_type": "code",
      "execution_count": null,
      "metadata": {
        "id": "sxkKSZRoAPyB"
      },
      "outputs": [],
      "source": [
        "#accuracy score on the test data\n",
        "accuracy_score(y_test, y_test_predict)"
      ]
    },
    {
      "cell_type": "code",
      "execution_count": null,
      "metadata": {
        "id": "RsbDRcn3APyC"
      },
      "outputs": [],
      "source": [
        "#confusion_matrix on train data\n",
        "\n",
        "#rows are actural label in ascending order i.e. 0 then 1 and cols are predicted labels\n",
        "confusion_matrix(y_train, y_train_predict, normalize='true')"
      ]
    },
    {
      "cell_type": "code",
      "execution_count": null,
      "metadata": {
        "id": "sijrx5BfAPyC"
      },
      "outputs": [],
      "source": [
        "#confusion_matrix on test data\n",
        "#rows are actual label in ascending order i.e. 0 then 1 and cols are predicted labels\n",
        "confusion_matrix(y_test, y_test_predict, normalize='true')"
      ]
    },
    {
      "cell_type": "code",
      "execution_count": null,
      "metadata": {
        "id": "DVkw4f_jAPyC"
      },
      "outputs": [],
      "source": [
        "\n",
        "#f1_score on the train data\n",
        "print(f1_score(y_train, y_train_predict))\n",
        "\n",
        "#f1_score on the test data\n",
        "print(f1_score(y_test, y_test_predict))"
      ]
    },
    {
      "cell_type": "markdown",
      "metadata": {
        "id": "iHp3Y__9APyC"
      },
      "source": [
        "**Observation: Performance is good. From confusion matrix, we can say approx 11% of +ve data predicted as -ve and approx 11% of -ve data predicted as +ve on the test data.**"
      ]
    },
    {
      "cell_type": "markdown",
      "metadata": {
        "id": "Urek4VHiAPyC"
      },
      "source": [
        "**Saving trained model:**"
      ]
    },
    {
      "cell_type": "code",
      "execution_count": null,
      "metadata": {
        "id": "-SHKifcqAPyD"
      },
      "outputs": [],
      "source": [
        "joblib.dump(best_mnb, \"/content/drive/MyDrive/applied ai/myself work/amazon fine food reviews/saved_models/best_mnb_tfidf.sav\")"
      ]
    },
    {
      "cell_type": "markdown",
      "metadata": {
        "id": "xVE4pbD4APyD"
      },
      "source": [
        "**Loading trained data:**"
      ]
    },
    {
      "cell_type": "code",
      "execution_count": null,
      "metadata": {
        "id": "gdjWsKK4APyD"
      },
      "outputs": [],
      "source": [
        "best_mnb = joblib.load(\"/content/drive/MyDrive/applied ai/myself work/amazon fine food reviews/saved_models/best_mnb_tfidf.sav\")"
      ]
    },
    {
      "cell_type": "markdown",
      "metadata": {
        "id": "U01a-NpnFOVn"
      },
      "source": [
        "##Applying Logistic regression"
      ]
    },
    {
      "cell_type": "code",
      "execution_count": null,
      "metadata": {
        "id": "bLuu7sBOFOVn"
      },
      "outputs": [],
      "source": [
        "#max_iter=1000 becoz of high value of C(for small learning rate) below like 100 for converging to minm\n",
        "lgr = LogisticRegression(max_iter=1000)\n",
        "\n",
        "parameters = {'C':[0.0001, 0.001, 0.01, 0.1, 1, 10, 100]}\n",
        "lgr_tune = GridSearchCV(lgr, parameters, n_jobs=-1, verbose=2)\n",
        "lgr_tune.fit(X_train_tfidf, y_train)"
      ]
    },
    {
      "cell_type": "code",
      "execution_count": null,
      "metadata": {
        "id": "l3m4uYPdFOVn"
      },
      "outputs": [],
      "source": [
        "(lgr_tune.cv_results_)"
      ]
    },
    {
      "cell_type": "code",
      "execution_count": null,
      "metadata": {
        "id": "ShJgjI_qFOVn"
      },
      "outputs": [],
      "source": [
        "#lgr with best hyperparameter\n",
        "best_lgr = lgr_tune.best_estimator_"
      ]
    },
    {
      "cell_type": "markdown",
      "metadata": {
        "id": "Kd3jrLwTFOVo"
      },
      "source": [
        "### Performance of lgr model"
      ]
    },
    {
      "cell_type": "code",
      "execution_count": null,
      "metadata": {
        "id": "C9w8FCDFFOVo"
      },
      "outputs": [],
      "source": [
        "#train predicted probability\n",
        "train_proba = best_lgr.predict_proba(X_train_tfidf)\n",
        "\n",
        "#test predicted probability\n",
        "test_proba = best_lgr.predict_proba(X_test_tfidf)"
      ]
    },
    {
      "cell_type": "code",
      "execution_count": null,
      "metadata": {
        "id": "AmSCYR8WFOVo"
      },
      "outputs": [],
      "source": [
        "#train predicted\n",
        "y_train_predict = best_lgr.predict(X_train_tfidf)\n",
        "\n",
        "#test predicted\n",
        "y_test_predict = best_lgr.predict(X_test_tfidf)"
      ]
    },
    {
      "cell_type": "code",
      "execution_count": null,
      "metadata": {
        "id": "RHTC423SFOVo"
      },
      "outputs": [],
      "source": [
        "#accuracy score on the train data\n",
        "accuracy_score(y_train, y_train_predict)"
      ]
    },
    {
      "cell_type": "code",
      "execution_count": null,
      "metadata": {
        "id": "GpPJsqHSFOVo"
      },
      "outputs": [],
      "source": [
        "#accuracy score on the test data\n",
        "accuracy_score(y_test, y_test_predict)"
      ]
    },
    {
      "cell_type": "code",
      "execution_count": null,
      "metadata": {
        "id": "2rbUwMMVFOVo"
      },
      "outputs": [],
      "source": [
        "#confusion_matrix on train data\n",
        "\n",
        "#rows are actual label in ascending order i.e. 0 then 1 and cols are predicted labels\n",
        "confusion_matrix(y_train, y_train_predict, normalize='true')"
      ]
    },
    {
      "cell_type": "code",
      "execution_count": null,
      "metadata": {
        "id": "bcFNKGs-FOVo"
      },
      "outputs": [],
      "source": [
        "#confusion_matrix on test data\n",
        "#rows are actual label in ascending order i.e. 0 then 1 and cols are predicted labels\n",
        "confusion_matrix(y_test, y_test_predict, normalize='true')"
      ]
    },
    {
      "cell_type": "code",
      "execution_count": null,
      "metadata": {
        "id": "xw0285TFFOVp"
      },
      "outputs": [],
      "source": [
        "from sklearn.metrics import f1_score\n",
        "\n",
        "#f1_score on the train data\n",
        "print(f1_score(y_train, y_train_predict))\n",
        "\n",
        "#f1_score on the test data\n",
        "print(f1_score(y_test, y_test_predict))"
      ]
    },
    {
      "cell_type": "markdown",
      "metadata": {
        "id": "YeTJtuaxFOVq"
      },
      "source": [
        "**Observation: Performance is fairly better than the knn.**"
      ]
    },
    {
      "cell_type": "markdown",
      "metadata": {
        "id": "U52OcbLcFOVq"
      },
      "source": [
        "**Saving trained model:**"
      ]
    },
    {
      "cell_type": "code",
      "execution_count": null,
      "metadata": {
        "id": "A93j-3zQFOVq"
      },
      "outputs": [],
      "source": [
        "# joblib.dump(best_lgr, \"/content/drive/MyDrive/applied ai/myself work/amazon fine food reviews/saved_models/best_lgr_tfidf.sav\")"
      ]
    },
    {
      "cell_type": "markdown",
      "metadata": {
        "id": "FAWTb1VRFOVq"
      },
      "source": [
        "**Loading trained data:**"
      ]
    },
    {
      "cell_type": "code",
      "execution_count": null,
      "metadata": {
        "id": "HHpRCs9VFOVr"
      },
      "outputs": [],
      "source": [
        "best_lgr = joblib.load(\"/content/drive/MyDrive/applied ai/myself work/amazon fine food reviews/saved_models/best_lgr_tfidf.sav\")"
      ]
    },
    {
      "cell_type": "markdown",
      "metadata": {
        "id": "ZRGrC5-IFOVr"
      },
      "source": [
        "## Applying DNN"
      ]
    },
    {
      "cell_type": "code",
      "source": [
        "#splitting train data into validation and the train set\n",
        "X_train_tfidf.sort_indices()\n",
        "X_test_tfidf.sort_indices()\n",
        "X_valid_tfidf, X_train_tfidf = X_train_tfidf[:10000], X_train_tfidf[10000:]\n",
        "y_valid, y_train = y_train[:10000], y_train[10000:]"
      ],
      "metadata": {
        "id": "a3MpbvoxFOVr"
      },
      "execution_count": null,
      "outputs": []
    },
    {
      "cell_type": "code",
      "execution_count": null,
      "metadata": {
        "id": "W1H_EK8PFOVr"
      },
      "outputs": [],
      "source": [
        "#applying simple NN with dropouts\n",
        "dnn = tf.keras.models.Sequential([\n",
        "  tf.keras.layers.InputLayer(input_shape=(X_train_tfidf.shape[1],), sparse=True),\n",
        "  tf.keras.layers.Dense(128, activation='elu'),\n",
        "  tf.keras.layers.Dropout(0.2),\n",
        "  tf.keras.layers.Dense(128, activation='elu'),\n",
        "  tf.keras.layers.Dropout(0.2),\n",
        "  tf.keras.layers.Dense(1, activation='sigmoid')\n",
        "])"
      ]
    },
    {
      "cell_type": "code",
      "execution_count": null,
      "metadata": {
        "id": "rTv01Q1cFOVr"
      },
      "outputs": [],
      "source": [
        "# compile the keras model\n",
        "dnn.compile(loss='binary_crossentropy', optimizer='sgd', metrics=['accuracy'])"
      ]
    },
    {
      "cell_type": "code",
      "source": [
        "early_stopping_cb = tf.keras.callbacks.EarlyStopping(patience=10, restore_best_weights=True)"
      ],
      "metadata": {
        "id": "EbjT35QaFOVr"
      },
      "execution_count": null,
      "outputs": []
    },
    {
      "cell_type": "code",
      "execution_count": null,
      "metadata": {
        "id": "v_BY8f55FOVs"
      },
      "outputs": [],
      "source": [
        "history = dnn.fit(X_train_tfidf, y_train, epochs=30, validation_data=(X_valid_tfidf, y_valid), callbacks=[early_stopping_cb])"
      ]
    },
    {
      "cell_type": "markdown",
      "metadata": {
        "id": "1PfIykKqFOVs"
      },
      "source": [
        "### Performance of DNN model"
      ]
    },
    {
      "cell_type": "code",
      "metadata": {
        "id": "fN7XsRaKFOVs"
      },
      "source": [
        "pd.DataFrame(history.history).plot(figsize=(8, 5))\n",
        "plt.grid(True)\n",
        "plt.gca().set_ylim(0, 1) # set the vertical range to [0-1]\n",
        "plt.show()"
      ],
      "execution_count": null,
      "outputs": []
    },
    {
      "cell_type": "code",
      "source": [
        "dnn.evaluate(X_train_tfidf, y_train, batch_size=128)"
      ],
      "metadata": {
        "id": "XXmuGBvQFOVs"
      },
      "execution_count": null,
      "outputs": []
    },
    {
      "cell_type": "code",
      "source": [
        "dnn.evaluate(X_test_tfidf, y_test, batch_size=128)"
      ],
      "metadata": {
        "id": "xodzpLZ7FOVt"
      },
      "execution_count": null,
      "outputs": []
    },
    {
      "cell_type": "code",
      "execution_count": null,
      "metadata": {
        "id": "BUeQEM6nFOVt"
      },
      "outputs": [],
      "source": [
        "#train predicted probability\n",
        "train_proba = dnn.predict(X_train_tfidf)\n",
        "\n",
        "#test predicted probability\n",
        "test_proba = new_model.predict(X_test_tfidf)"
      ]
    },
    {
      "cell_type": "code",
      "execution_count": null,
      "metadata": {
        "id": "ISMKvJe-FOVt"
      },
      "outputs": [],
      "source": [
        "#predicted classes on train data\n",
        "y_train_predict = train_proba >0.5\n",
        "\n",
        "#predicted classes on test data\n",
        "y_test_predict = test_proba>0.5"
      ]
    },
    {
      "cell_type": "code",
      "execution_count": null,
      "metadata": {
        "id": "T1pOwXMOFOVt"
      },
      "outputs": [],
      "source": [
        "#accuracy score on train data\n",
        "accuracy_score(y_train,y_train_predict)"
      ]
    },
    {
      "cell_type": "code",
      "execution_count": null,
      "metadata": {
        "id": "O_dWAqp_FOVt"
      },
      "outputs": [],
      "source": [
        "#accuracy score on test data\n",
        "accuracy_score(y_test,y_test_predict)"
      ]
    },
    {
      "cell_type": "code",
      "execution_count": null,
      "metadata": {
        "id": "AtZALCJYFOVu"
      },
      "outputs": [],
      "source": [
        "#confusion_matrix on train data\n",
        "\n",
        "#rows are actual label in ascending order i.e. 0 then 1 and cols are predicted labels\n",
        "confusion_matrix(y_train, y_train_predict, normalize='true')"
      ]
    },
    {
      "cell_type": "code",
      "execution_count": null,
      "metadata": {
        "id": "_majfbqxFOVu"
      },
      "outputs": [],
      "source": [
        "#confusion_matrix on test data\n",
        "#rows are actual label in ascending order i.e. 0 then 1 and cols are predicted labels\n",
        "confusion_matrix(y_test, y_test_predict, normalize='true')"
      ]
    },
    {
      "cell_type": "code",
      "execution_count": null,
      "metadata": {
        "id": "0GnOhl3tFOVu"
      },
      "outputs": [],
      "source": [
        "\n",
        "#f1_score on the train data\n",
        "print(f1_score(y_train, y_train_predict))\n",
        "\n",
        "#f1_score on the test data\n",
        "print(f1_score(y_test, y_test_predict))"
      ]
    },
    {
      "cell_type": "markdown",
      "metadata": {
        "id": "YWFh6uU7FOVu"
      },
      "source": [
        "**Observation: Here we are overfittng little bit, certainly we need to tune our model hyperparameters or apply regularization for getting the good performance on the test set as well.**"
      ]
    },
    {
      "cell_type": "code",
      "source": [
        "#model saving path\n",
        "model_version = \"0001\"\n",
        "model_path = \"/content/drive/MyDrive/applied ai/myself work/amazon fine food reviews/saved_models/dnn_tfidf\"\n",
        "model_path = os.path.join(model_path, model_version)"
      ],
      "metadata": {
        "id": "guGdoCX_FOVu"
      },
      "execution_count": null,
      "outputs": []
    },
    {
      "cell_type": "markdown",
      "metadata": {
        "id": "h3ICIkFvFOVv"
      },
      "source": [
        "**Saving trained model:**"
      ]
    },
    {
      "cell_type": "code",
      "execution_count": null,
      "metadata": {
        "id": "W8qvh01LFOVv"
      },
      "outputs": [],
      "source": [
        "# dnn.save(model_path)"
      ]
    },
    {
      "cell_type": "markdown",
      "metadata": {
        "id": "BfUyHtnGFOVv"
      },
      "source": [
        "**Loading trained data:**"
      ]
    },
    {
      "cell_type": "code",
      "execution_count": null,
      "metadata": {
        "id": "GRdHR7_bFOVv"
      },
      "outputs": [],
      "source": [
        "new_model = tf.keras.models.load_model(model_path)"
      ]
    },
    {
      "cell_type": "code",
      "source": [
        "new_model.summary()"
      ],
      "metadata": {
        "id": "4262PPgFFOVv"
      },
      "execution_count": null,
      "outputs": []
    },
    {
      "cell_type": "markdown",
      "metadata": {
        "id": "Rz37TsaEwMoF"
      },
      "source": [
        "#ML models using avgW2V"
      ]
    },
    {
      "cell_type": "markdown",
      "metadata": {
        "id": "M1jFzKXgCKNX"
      },
      "source": [
        "## Applying MNB"
      ]
    },
    {
      "cell_type": "code",
      "execution_count": null,
      "metadata": {
        "id": "lENUW7qzCKNY"
      },
      "outputs": [],
      "source": [
        "mnb = MultinomialNB()\n",
        "\n",
        "parameters = {'alpha': [0.0001, 0.01, 0.1, 1, 10, 100]}\n",
        "mnb_tune = GridSearchCV(mnb, parameters, n_jobs=-1, verbose=2)\n",
        "mnb_tune.fit(X_train_avgw2v, y_train)"
      ]
    },
    {
      "cell_type": "code",
      "execution_count": null,
      "metadata": {
        "id": "-y6mrMQGCKNZ"
      },
      "outputs": [],
      "source": [
        "(mnb_tune.cv_results_)"
      ]
    },
    {
      "cell_type": "code",
      "execution_count": null,
      "metadata": {
        "id": "-mV_uAOtCKNa"
      },
      "outputs": [],
      "source": [
        "#mnb with best hyperparameter\n",
        "best_mnb = mnb_tune.best_estimator_"
      ]
    },
    {
      "cell_type": "markdown",
      "metadata": {
        "id": "IQ0cl9ySCKNa"
      },
      "source": [
        "### Performance of mnb model"
      ]
    },
    {
      "cell_type": "code",
      "execution_count": null,
      "metadata": {
        "id": "1kc3LJ3aCKNb"
      },
      "outputs": [],
      "source": [
        "#train predicted probability\n",
        "train_proba = best_mnb.predict_proba(X_train_avgw2v)\n",
        "\n",
        "#test predicted probability\n",
        "test_proba = best_mnb.predict_proba(X_test_avgw2v)"
      ]
    },
    {
      "cell_type": "code",
      "execution_count": null,
      "metadata": {
        "id": "XeoZr6qBCKNc"
      },
      "outputs": [],
      "source": [
        "#train predicted\n",
        "y_train_predict = best_mnb.predict(X_train_avgw2v)\n",
        "\n",
        "#test predicted\n",
        "y_test_predict = best_mnb.predict(X_test_avgw2v)"
      ]
    },
    {
      "cell_type": "code",
      "execution_count": null,
      "metadata": {
        "id": "4Imog_LmCKNc"
      },
      "outputs": [],
      "source": [
        "#accuracy score on the train data\n",
        "accuracy_score(y_train, y_train_predict)"
      ]
    },
    {
      "cell_type": "code",
      "execution_count": null,
      "metadata": {
        "id": "tBGnCpngCKNd"
      },
      "outputs": [],
      "source": [
        "#accuracy score on the test data\n",
        "accuracy_score(y_test, y_test_predict)"
      ]
    },
    {
      "cell_type": "code",
      "execution_count": null,
      "metadata": {
        "id": "tEHP6P9WCKNd"
      },
      "outputs": [],
      "source": [
        "#confusion_matrix on train data\n",
        "\n",
        "#rows are actural label in ascending order i.e. 0 then 1 and cols are predicted labels\n",
        "confusion_matrix(y_train, y_train_predict, normalize='true')"
      ]
    },
    {
      "cell_type": "code",
      "execution_count": null,
      "metadata": {
        "id": "VMBJ8JwxCKNe"
      },
      "outputs": [],
      "source": [
        "#confusion_matrix on test data\n",
        "#rows are actual label in ascending order i.e. 0 then 1 and cols are predicted labels\n",
        "confusion_matrix(y_test, y_test_predict, normalize='true')"
      ]
    },
    {
      "cell_type": "code",
      "execution_count": null,
      "metadata": {
        "id": "J--YuYeaCKNe"
      },
      "outputs": [],
      "source": [
        "\n",
        "#f1_score on the train data\n",
        "print(f1_score(y_train, y_train_predict))\n",
        "\n",
        "#f1_score on the test data\n",
        "print(f1_score(y_test, y_test_predict))"
      ]
    },
    {
      "cell_type": "markdown",
      "metadata": {
        "id": "twxefoGDCKNf"
      },
      "source": [
        "**Observation: Performance is not good. From confusion matrix, we can say approx 33% of +ve data predicted as -ve and approx 27% of -ve data predicted as +ve on the test data.**"
      ]
    },
    {
      "cell_type": "markdown",
      "metadata": {
        "id": "1tHaDFW1CKNf"
      },
      "source": [
        "**Saving trained model:**"
      ]
    },
    {
      "cell_type": "code",
      "execution_count": null,
      "metadata": {
        "id": "ahqocb1RCKNg"
      },
      "outputs": [],
      "source": [
        "joblib.dump(best_mnb, \"/content/drive/MyDrive/applied ai/myself work/amazon fine food reviews/saved_models/best_mnb_avgw2v.sav\")"
      ]
    },
    {
      "cell_type": "markdown",
      "metadata": {
        "id": "EuBXgQ0eCKNg"
      },
      "source": [
        "**Loading trained data:**"
      ]
    },
    {
      "cell_type": "code",
      "execution_count": null,
      "metadata": {
        "id": "i2tBvzfHCKNk"
      },
      "outputs": [],
      "source": [
        "best_mnb = joblib.load(\"/content/drive/MyDrive/applied ai/myself work/amazon fine food reviews/saved_models/best_mnb_avgw2v.sav\")"
      ]
    },
    {
      "cell_type": "markdown",
      "metadata": {
        "id": "I6DBAgRpwMoI"
      },
      "source": [
        "##Applying Logistic regression"
      ]
    },
    {
      "cell_type": "code",
      "execution_count": null,
      "metadata": {
        "id": "uXHJBSq-wMoI"
      },
      "outputs": [],
      "source": [
        "#max_iter=1000 becoz of high value of C(for small learning rate) below like 100 for converging to minm\n",
        "lgr = LogisticRegression(max_iter=1000)\n",
        "\n",
        "parameters = {'C':[0.0001, 0.001, 0.01, 0.1, 1, 10, 100]}\n",
        "lgr_tune = GridSearchCV(lgr, parameters, n_jobs=-1, verbose=2)\n",
        "lgr_tune.fit(X_train_avgw2v, y_train)"
      ]
    },
    {
      "cell_type": "code",
      "execution_count": null,
      "metadata": {
        "id": "W44MW84cwMoI"
      },
      "outputs": [],
      "source": [
        "(lgr_tune.cv_results_)"
      ]
    },
    {
      "cell_type": "code",
      "execution_count": null,
      "metadata": {
        "id": "EL6dqgGNwMoI"
      },
      "outputs": [],
      "source": [
        "#lgr with best hyperparameter\n",
        "best_lgr = lgr_tune.best_estimator_"
      ]
    },
    {
      "cell_type": "markdown",
      "metadata": {
        "id": "kfJ-Dpm_wMoJ"
      },
      "source": [
        "### Performance of lgr model"
      ]
    },
    {
      "cell_type": "code",
      "execution_count": null,
      "metadata": {
        "id": "HTNaZd8VwMoJ"
      },
      "outputs": [],
      "source": [
        "#train predicted probability\n",
        "train_proba = best_lgr.predict_proba(X_train_avgw2v)\n",
        "\n",
        "#test predicted probability\n",
        "test_proba = best_lgr.predict_proba(X_test_avgw2v)"
      ]
    },
    {
      "cell_type": "code",
      "execution_count": null,
      "metadata": {
        "id": "xU1bXkObwMoJ"
      },
      "outputs": [],
      "source": [
        "#train predicted\n",
        "y_train_predict = best_lgr.predict(X_train_avgw2v)\n",
        "\n",
        "#test predicted\n",
        "y_test_predict = best_lgr.predict(X_test_avgw2v)"
      ]
    },
    {
      "cell_type": "code",
      "execution_count": null,
      "metadata": {
        "id": "qowSCIUFwMoJ"
      },
      "outputs": [],
      "source": [
        "#accuracy score on the train data\n",
        "accuracy_score(y_train, y_train_predict)"
      ]
    },
    {
      "cell_type": "code",
      "execution_count": null,
      "metadata": {
        "id": "11e3HE-kwMoJ"
      },
      "outputs": [],
      "source": [
        "#accuracy score on the test data\n",
        "accuracy_score(y_test, y_test_predict)"
      ]
    },
    {
      "cell_type": "code",
      "execution_count": null,
      "metadata": {
        "id": "JPC3UzmLwMoJ"
      },
      "outputs": [],
      "source": [
        "#confusion_matrix on train data\n",
        "\n",
        "#rows are actual label in ascending order i.e. 0 then 1 and cols are predicted labels\n",
        "confusion_matrix(y_train, y_train_predict, normalize='true')"
      ]
    },
    {
      "cell_type": "code",
      "execution_count": null,
      "metadata": {
        "id": "ie2AseHpwMoJ"
      },
      "outputs": [],
      "source": [
        "#confusion_matrix on test data\n",
        "#rows are actual label in ascending order i.e. 0 then 1 and cols are predicted labels\n",
        "confusion_matrix(y_test, y_test_predict, normalize='true')"
      ]
    },
    {
      "cell_type": "code",
      "execution_count": null,
      "metadata": {
        "id": "R1vxAThJwMoK"
      },
      "outputs": [],
      "source": [
        "\n",
        "#f1_score on the train data\n",
        "print(f1_score(y_train, y_train_predict))\n",
        "\n",
        "#f1_score on the test data\n",
        "print(f1_score(y_test, y_test_predict))"
      ]
    },
    {
      "cell_type": "markdown",
      "metadata": {
        "id": "zZ4ftRbJwMoK"
      },
      "source": [
        "**Observation: Performance is better than the knn but avgw2v performing badly than the tfidf and bow**"
      ]
    },
    {
      "cell_type": "markdown",
      "metadata": {
        "id": "kVJIgAMYwMoK"
      },
      "source": [
        "**Saving trained model:**"
      ]
    },
    {
      "cell_type": "code",
      "execution_count": null,
      "metadata": {
        "id": "TyVf84_NwMoK"
      },
      "outputs": [],
      "source": [
        "# joblib.dump(best_lgr, \"/content/drive/MyDrive/applied ai/myself work/amazon fine food reviews/saved_models/best_lgr_avgw2v.sav\")"
      ]
    },
    {
      "cell_type": "markdown",
      "metadata": {
        "id": "QjLa46FuwMoK"
      },
      "source": [
        "**Loading trained data:**"
      ]
    },
    {
      "cell_type": "code",
      "execution_count": null,
      "metadata": {
        "id": "AImumbXSwMoK"
      },
      "outputs": [],
      "source": [
        "best_lgr = joblib.load(\"/content/drive/MyDrive/applied ai/myself work/amazon fine food reviews/saved_models/best_lgr_avgw2v.sav\")"
      ]
    },
    {
      "cell_type": "markdown",
      "metadata": {
        "id": "X3ILITtLwMoK"
      },
      "source": [
        "## Applying DNN"
      ]
    },
    {
      "cell_type": "code",
      "source": [
        "#splitting train data into validation and the train set\n",
        "X_valid_avgw2v, X_train_avgw2v = X_train_avgw2v[:10000], X_train_avgw2v[10000:]\n",
        "y_valid, y_train = y_train[:10000], y_train[10000:]"
      ],
      "metadata": {
        "id": "kE581EnFwMoL"
      },
      "execution_count": null,
      "outputs": []
    },
    {
      "cell_type": "code",
      "execution_count": null,
      "metadata": {
        "id": "4ZHjesabwMoL"
      },
      "outputs": [],
      "source": [
        "#applying simple NN with dropouts\n",
        "dnn = tf.keras.models.Sequential([\n",
        "  tf.keras.layers.InputLayer(input_shape=(X_train_avgw2v.shape[1],)),\n",
        "  tf.keras.layers.Dense(128, activation='elu'),\n",
        "  tf.keras.layers.Dropout(0.2),\n",
        "  tf.keras.layers.Dense(128, activation='elu'),\n",
        "  tf.keras.layers.Dropout(0.2),\n",
        "  tf.keras.layers.Dense(1, activation='sigmoid')\n",
        "])"
      ]
    },
    {
      "cell_type": "code",
      "execution_count": null,
      "metadata": {
        "id": "7us9qtUJwMoL"
      },
      "outputs": [],
      "source": [
        "# compile the keras model\n",
        "dnn.compile(loss='binary_crossentropy', optimizer='sgd', metrics=['accuracy'])"
      ]
    },
    {
      "cell_type": "code",
      "source": [
        "early_stopping_cb = tf.keras.callbacks.EarlyStopping(patience=10, restore_best_weights=True)"
      ],
      "metadata": {
        "id": "4By7mkF1wMoL"
      },
      "execution_count": null,
      "outputs": []
    },
    {
      "cell_type": "code",
      "execution_count": null,
      "metadata": {
        "id": "HvCMorhfwMoL"
      },
      "outputs": [],
      "source": [
        "history = dnn.fit(X_train_avgw2v, y_train, epochs=30, validation_data=(X_valid_avgw2v, y_valid), callbacks=[early_stopping_cb])"
      ]
    },
    {
      "cell_type": "markdown",
      "metadata": {
        "id": "NbfT-HzLwMoL"
      },
      "source": [
        "### Performance of DNN model"
      ]
    },
    {
      "cell_type": "code",
      "metadata": {
        "id": "c-aKqVNBwMoL"
      },
      "source": [
        "\n",
        "pd.DataFrame(history.history).plot(figsize=(8, 5))\n",
        "plt.grid(True)\n",
        "plt.gca().set_ylim(0, 1) # set the vertical range to [0-1]\n",
        "plt.show()"
      ],
      "execution_count": null,
      "outputs": []
    },
    {
      "cell_type": "code",
      "source": [
        "dnn.evaluate(X_train_avgw2v, y_train, batch_size=128)"
      ],
      "metadata": {
        "id": "sEsNiyy6wMoM"
      },
      "execution_count": null,
      "outputs": []
    },
    {
      "cell_type": "code",
      "source": [
        "dnn.evaluate(X_test_avgw2v, y_test, batch_size=128)"
      ],
      "metadata": {
        "id": "4tuHch6-wMoM"
      },
      "execution_count": null,
      "outputs": []
    },
    {
      "cell_type": "code",
      "execution_count": null,
      "metadata": {
        "id": "vD28Q6lcwMoM"
      },
      "outputs": [],
      "source": [
        "#train predicted probability\n",
        "train_proba = dnn.predict(X_train_avgw2v)\n",
        "\n",
        "#test predicted probability\n",
        "test_proba = dnn.predict(X_test_avgw2v)"
      ]
    },
    {
      "cell_type": "code",
      "execution_count": null,
      "metadata": {
        "id": "OM186p7UwMoM"
      },
      "outputs": [],
      "source": [
        "#predicted classes on train data\n",
        "y_train_predict = train_proba >0.5\n",
        "\n",
        "#predicted classes on test data\n",
        "y_test_predict = test_proba>0.5"
      ]
    },
    {
      "cell_type": "code",
      "execution_count": null,
      "metadata": {
        "id": "i5zwe6yawMoM"
      },
      "outputs": [],
      "source": [
        "#accuracy score on train data\n",
        "accuracy_score(y_train,y_train_predict)"
      ]
    },
    {
      "cell_type": "code",
      "execution_count": null,
      "metadata": {
        "id": "nAqO-7dLwMoM"
      },
      "outputs": [],
      "source": [
        "#accuracy score on test data\n",
        "accuracy_score(y_test,y_test_predict)"
      ]
    },
    {
      "cell_type": "code",
      "execution_count": null,
      "metadata": {
        "id": "K5ELSv5iwMoM"
      },
      "outputs": [],
      "source": [
        "#confusion_matrix on train data\n",
        "\n",
        "#rows are actual label in ascending order i.e. 0 then 1 and cols are predicted labels\n",
        "confusion_matrix(y_train, y_train_predict, normalize='true')"
      ]
    },
    {
      "cell_type": "code",
      "execution_count": null,
      "metadata": {
        "id": "vKmUBJzjwMoN"
      },
      "outputs": [],
      "source": [
        "#confusion_matrix on test data\n",
        "#rows are actual label in ascending order i.e. 0 then 1 and cols are predicted labels\n",
        "confusion_matrix(y_test, y_test_predict, normalize='true')"
      ]
    },
    {
      "cell_type": "code",
      "execution_count": null,
      "metadata": {
        "id": "0B5NIp3OwMoN"
      },
      "outputs": [],
      "source": [
        "\n",
        "#f1_score on the train data\n",
        "print(f1_score(y_train, y_train_predict))\n",
        "\n",
        "#f1_score on the test data\n",
        "print(f1_score(y_test, y_test_predict))"
      ]
    },
    {
      "cell_type": "markdown",
      "metadata": {
        "id": "Z4kx283mwMoN"
      },
      "source": [
        "**Observation: Look at above confusion matrix: approx 30% of +ve data predicted as -ve and 11% of -ve data predicted as +ve. And also overall performance is not good. It is performing badly than the bow and tfidf vectorization.**"
      ]
    },
    {
      "cell_type": "code",
      "source": [
        "#model saving path\n",
        "model_version = \"0001\"\n",
        "model_path = \"/content/drive/MyDrive/applied ai/myself work/amazon fine food reviews/saved_models/dnn_avgw2v\"\n",
        "model_path = os.path.join(model_path, model_version)"
      ],
      "metadata": {
        "id": "c-vVGnZwwMoN"
      },
      "execution_count": null,
      "outputs": []
    },
    {
      "cell_type": "markdown",
      "metadata": {
        "id": "dDSyNesNwMoN"
      },
      "source": [
        "**Saving trained model:**"
      ]
    },
    {
      "cell_type": "code",
      "execution_count": null,
      "metadata": {
        "id": "AxXQevgKwMoN"
      },
      "outputs": [],
      "source": [
        "# dnn.save(model_path)"
      ]
    },
    {
      "cell_type": "markdown",
      "metadata": {
        "id": "8KzzFAUiwMoO"
      },
      "source": [
        "**Loading trained data:**"
      ]
    },
    {
      "cell_type": "code",
      "execution_count": null,
      "metadata": {
        "id": "8z6qtpy0wMoO"
      },
      "outputs": [],
      "source": [
        "new_model = tf.keras.models.load_model(model_path)"
      ]
    },
    {
      "cell_type": "code",
      "source": [
        "new_model.summary()"
      ],
      "metadata": {
        "id": "TtlVICSxwMoO"
      },
      "execution_count": null,
      "outputs": []
    },
    {
      "cell_type": "markdown",
      "metadata": {
        "id": "kKvfLiaOwqWA"
      },
      "source": [
        "#ML models using TFIDF-W2V"
      ]
    },
    {
      "cell_type": "markdown",
      "metadata": {
        "id": "XFmaKWTtDznl"
      },
      "source": [
        "## Applying MNB"
      ]
    },
    {
      "cell_type": "code",
      "execution_count": null,
      "metadata": {
        "id": "Huj5LlbgDznm"
      },
      "outputs": [],
      "source": [
        "mnb = MultinomialNB()\n",
        "\n",
        "parameters = {'alpha': [0.0001, 0.01, 0.1, 1, 10, 100]}\n",
        "mnb_tune = GridSearchCV(mnb, parameters, n_jobs=-1, verbose=2)\n",
        "mnb_tune.fit(X_train_tfidfw2v, y_train)"
      ]
    },
    {
      "cell_type": "code",
      "execution_count": null,
      "metadata": {
        "id": "c8WtMdnuDznn"
      },
      "outputs": [],
      "source": [
        "(mnb_tune.cv_results_)"
      ]
    },
    {
      "cell_type": "code",
      "execution_count": null,
      "metadata": {
        "id": "EmwdY3o8Dznn"
      },
      "outputs": [],
      "source": [
        "#mnb with best hyperparameter\n",
        "best_mnb = mnb_tune.best_estimator_"
      ]
    },
    {
      "cell_type": "markdown",
      "metadata": {
        "id": "hFemWtvUDzno"
      },
      "source": [
        "### Performance of mnb model"
      ]
    },
    {
      "cell_type": "code",
      "execution_count": null,
      "metadata": {
        "id": "CTgIs33cDzno"
      },
      "outputs": [],
      "source": [
        "#train predicted probability\n",
        "train_proba = best_mnb.predict_proba(X_train_tfidfw2v)\n",
        "\n",
        "#test predicted probability\n",
        "test_proba = best_mnb.predict_proba(X_test_tfidfw2v)"
      ]
    },
    {
      "cell_type": "code",
      "execution_count": null,
      "metadata": {
        "id": "16s6l4q5Dznp"
      },
      "outputs": [],
      "source": [
        "#train predicted\n",
        "y_train_predict = best_mnb.predict(X_train_tfidfw2v)\n",
        "\n",
        "#test predicted\n",
        "y_test_predict = best_mnb.predict(X_test_tfidfw2v)"
      ]
    },
    {
      "cell_type": "code",
      "execution_count": null,
      "metadata": {
        "id": "8Eb5Nb6ODznq"
      },
      "outputs": [],
      "source": [
        "#accuracy score on the train data\n",
        "accuracy_score(y_train, y_train_predict)"
      ]
    },
    {
      "cell_type": "code",
      "execution_count": null,
      "metadata": {
        "id": "f7zDN09aDznq"
      },
      "outputs": [],
      "source": [
        "#accuracy score on the test data\n",
        "accuracy_score(y_test, y_test_predict)"
      ]
    },
    {
      "cell_type": "code",
      "execution_count": null,
      "metadata": {
        "id": "hVgt3cbBDznr"
      },
      "outputs": [],
      "source": [
        "#confusion_matrix on train data\n",
        "\n",
        "#rows are actural label in ascending order i.e. 0 then 1 and cols are predicted labels\n",
        "confusion_matrix(y_train, y_train_predict, normalize='true')"
      ]
    },
    {
      "cell_type": "code",
      "execution_count": null,
      "metadata": {
        "id": "x8kE8WXhDznr"
      },
      "outputs": [],
      "source": [
        "#confusion_matrix on test data\n",
        "#rows are actual label in ascending order i.e. 0 then 1 and cols are predicted labels\n",
        "confusion_matrix(y_test, y_test_predict, normalize='true')"
      ]
    },
    {
      "cell_type": "code",
      "execution_count": null,
      "metadata": {
        "id": "H-jkPXY_Dzns"
      },
      "outputs": [],
      "source": [
        "\n",
        "#f1_score on the train data\n",
        "print(f1_score(y_train, y_train_predict))\n",
        "\n",
        "#f1_score on the test data\n",
        "print(f1_score(y_test, y_test_predict))"
      ]
    },
    {
      "cell_type": "markdown",
      "metadata": {
        "id": "tooVr42lDznt"
      },
      "source": [
        "**Observation: Our model badly performing. From confusion matrix, we can say approx 57% of +ve data predicted as -ve and only approx 10% of -ve data predicted as +ve on the test data.**"
      ]
    },
    {
      "cell_type": "markdown",
      "metadata": {
        "id": "MK2PpjVKDznt"
      },
      "source": [
        "**Saving trained model:**"
      ]
    },
    {
      "cell_type": "code",
      "execution_count": null,
      "metadata": {
        "id": "Ojh_TS5RDznt"
      },
      "outputs": [],
      "source": [
        "joblib.dump(best_mnb, \"/content/drive/MyDrive/applied ai/myself work/amazon fine food reviews/saved_models/best_mnb_tfidfw2v.sav\")"
      ]
    },
    {
      "cell_type": "markdown",
      "metadata": {
        "id": "eAaqQgehDznu"
      },
      "source": [
        "**Loading trained data:**"
      ]
    },
    {
      "cell_type": "code",
      "execution_count": null,
      "metadata": {
        "id": "lHrv_t5NDznu"
      },
      "outputs": [],
      "source": [
        "best_mnb = joblib.load(\"/content/drive/MyDrive/applied ai/myself work/amazon fine food reviews/saved_models/best_mnb_tfidfw2v.sav\")"
      ]
    },
    {
      "cell_type": "markdown",
      "metadata": {
        "id": "Aj2EbRnhwqWD"
      },
      "source": [
        "##Applying Logistic regression"
      ]
    },
    {
      "cell_type": "code",
      "execution_count": null,
      "metadata": {
        "id": "dYBEKkB9wqWD"
      },
      "outputs": [],
      "source": [
        "#max_iter=1000 becoz of high value of C(for small learning rate) below like 100 for converging to minm\n",
        "lgr = LogisticRegression(max_iter=1000)\n",
        "\n",
        "parameters = {'C':[0.0001, 0.001, 0.01, 0.1, 1, 10, 100]}\n",
        "lgr_tune = GridSearchCV(lgr, parameters, n_jobs=-1, verbose=2)\n",
        "lgr_tune.fit(X_train_tfidfw2v, y_train)"
      ]
    },
    {
      "cell_type": "code",
      "execution_count": null,
      "metadata": {
        "id": "QCZExg73wqWE"
      },
      "outputs": [],
      "source": [
        "(lgr_tune.cv_results_)"
      ]
    },
    {
      "cell_type": "code",
      "execution_count": null,
      "metadata": {
        "id": "TCOvJXX2wqWE"
      },
      "outputs": [],
      "source": [
        "#lgr with best hyperparameter\n",
        "best_lgr = lgr_tune.best_estimator_"
      ]
    },
    {
      "cell_type": "markdown",
      "metadata": {
        "id": "_BSnjEqUwqWE"
      },
      "source": [
        "### Performance of lgr model"
      ]
    },
    {
      "cell_type": "code",
      "execution_count": null,
      "metadata": {
        "id": "E-b2M-PMwqWE"
      },
      "outputs": [],
      "source": [
        "#train predicted probability\n",
        "train_proba = best_lgr.predict_proba(X_train_tfidfw2v)\n",
        "\n",
        "#test predicted probability\n",
        "test_proba = best_lgr.predict_proba(X_test_tfidfw2v)"
      ]
    },
    {
      "cell_type": "code",
      "execution_count": null,
      "metadata": {
        "id": "ElwFB6HKwqWE"
      },
      "outputs": [],
      "source": [
        "#train predicted\n",
        "y_train_predict = best_lgr.predict(X_train_tfidfw2v)\n",
        "\n",
        "#test predicted\n",
        "y_test_predict = best_lgr.predict(X_test_tfidfw2v)"
      ]
    },
    {
      "cell_type": "code",
      "execution_count": null,
      "metadata": {
        "id": "eZnHvJ9KwqWF"
      },
      "outputs": [],
      "source": [
        "#accuracy score on the train data\n",
        "accuracy_score(y_train, y_train_predict)"
      ]
    },
    {
      "cell_type": "code",
      "execution_count": null,
      "metadata": {
        "id": "J_e2FAoywqWF"
      },
      "outputs": [],
      "source": [
        "#accuracy score on the test data\n",
        "accuracy_score(y_test, y_test_predict)"
      ]
    },
    {
      "cell_type": "code",
      "execution_count": null,
      "metadata": {
        "id": "ia2dhfRAwqWF"
      },
      "outputs": [],
      "source": [
        "#confusion_matrix on train data\n",
        "\n",
        "#rows are actual label in ascending order i.e. 0 then 1 and cols are predicted labels\n",
        "confusion_matrix(y_train, y_train_predict, normalize='true')"
      ]
    },
    {
      "cell_type": "code",
      "execution_count": null,
      "metadata": {
        "id": "nnnw17O1wqWF"
      },
      "outputs": [],
      "source": [
        "#confusion_matrix on test data\n",
        "#rows are actual label in ascending order i.e. 0 then 1 and cols are predicted labels\n",
        "confusion_matrix(y_test, y_test_predict, normalize='true')"
      ]
    },
    {
      "cell_type": "code",
      "execution_count": null,
      "metadata": {
        "id": "bPAj-DMUwqWF"
      },
      "outputs": [],
      "source": [
        "\n",
        "#f1_score on the train data\n",
        "print(f1_score(y_train, y_train_predict))\n",
        "\n",
        "#f1_score on the test data\n",
        "print(f1_score(y_test, y_test_predict))"
      ]
    },
    {
      "cell_type": "markdown",
      "metadata": {
        "id": "zZu5bLNhZZUS"
      },
      "source": [
        "**Observation: Look at above confusion matrix: approx 21% of +ve data predicted as -ve and 17% of -ve data predicted as +ve. And also overall performance is not very good. It is performing badly than the bow and tfidf vectorization but better than the avgw2v.**"
      ]
    },
    {
      "cell_type": "markdown",
      "metadata": {
        "id": "FesnhPL8wqWH"
      },
      "source": [
        "**Saving trained model:**"
      ]
    },
    {
      "cell_type": "code",
      "execution_count": null,
      "metadata": {
        "id": "emY_XslxwqWH"
      },
      "outputs": [],
      "source": [
        "# joblib.dump(best_lgr, \"/content/drive/MyDrive/applied ai/myself work/amazon fine food reviews/saved_models/best_lgr_tfidfw2v.sav\")"
      ]
    },
    {
      "cell_type": "markdown",
      "metadata": {
        "id": "T9zfydobwqWH"
      },
      "source": [
        "**Loading trained data:**"
      ]
    },
    {
      "cell_type": "code",
      "execution_count": null,
      "metadata": {
        "id": "Iw4MSYyTwqWH"
      },
      "outputs": [],
      "source": [
        "best_lgr = joblib.load(\"/content/drive/MyDrive/applied ai/myself work/amazon fine food reviews/saved_models/best_lgr_tfidfw2v.sav\")"
      ]
    },
    {
      "cell_type": "markdown",
      "metadata": {
        "id": "Zk4-m186wqWH"
      },
      "source": [
        "## Applying DNN"
      ]
    },
    {
      "cell_type": "code",
      "source": [
        "#splitting train data into validation and the train set\n",
        "X_valid_tfidfw2v, X_train_tfidfw2v = X_train_tfidfw2v[:10000], X_train_tfidfw2v[10000:]\n",
        "y_valid, y_train = y_train[:10000], y_train[10000:]"
      ],
      "metadata": {
        "id": "KZNz3j-CwqWH"
      },
      "execution_count": null,
      "outputs": []
    },
    {
      "cell_type": "code",
      "execution_count": null,
      "metadata": {
        "id": "Gc4pY17XwqWI"
      },
      "outputs": [],
      "source": [
        "#applying simple NN with dropouts\n",
        "dnn = tf.keras.models.Sequential([\n",
        "  tf.keras.layers.InputLayer(input_shape=(X_train_tfidfw2v.shape[1],)),\n",
        "  tf.keras.layers.Dense(128, activation='elu'),\n",
        "  tf.keras.layers.Dropout(0.2),\n",
        "  tf.keras.layers.Dense(128, activation='elu'),\n",
        "  tf.keras.layers.Dropout(0.2),\n",
        "  tf.keras.layers.Dense(1, activation='sigmoid')\n",
        "])"
      ]
    },
    {
      "cell_type": "code",
      "execution_count": null,
      "metadata": {
        "id": "KdjhlVIZwqWI"
      },
      "outputs": [],
      "source": [
        "# compile the keras model\n",
        "dnn.compile(loss='binary_crossentropy', optimizer='sgd', metrics=['accuracy'])"
      ]
    },
    {
      "cell_type": "code",
      "source": [
        "early_stopping_cb = tf.keras.callbacks.EarlyStopping(patience=10, restore_best_weights=True)"
      ],
      "metadata": {
        "id": "j-eSWfVDwqWI"
      },
      "execution_count": null,
      "outputs": []
    },
    {
      "cell_type": "code",
      "execution_count": null,
      "metadata": {
        "id": "zF_myP5pwqWI"
      },
      "outputs": [],
      "source": [
        "history = dnn.fit(X_train_tfidfw2v, y_train, epochs=30, validation_data=(X_valid_tfidfw2v, y_valid), callbacks=[early_stopping_cb])"
      ]
    },
    {
      "cell_type": "markdown",
      "metadata": {
        "id": "0X9dSMCdwqWI"
      },
      "source": [
        "### Performance of DNN model"
      ]
    },
    {
      "cell_type": "code",
      "metadata": {
        "id": "wBO0H_ymwqWI"
      },
      "source": [
        "pd.DataFrame(history.history).plot(figsize=(8, 5))\n",
        "plt.grid(True)\n",
        "plt.gca().set_ylim(0, 1) # set the vertical range to [0-1]\n",
        "plt.show()"
      ],
      "execution_count": null,
      "outputs": []
    },
    {
      "cell_type": "code",
      "source": [
        "dnn.evaluate(X_train_tfidfw2v, y_train, batch_size=128)"
      ],
      "metadata": {
        "id": "BGEWs4NvwqWJ"
      },
      "execution_count": null,
      "outputs": []
    },
    {
      "cell_type": "code",
      "source": [
        "dnn.evaluate(X_test_tfidfw2v, y_test, batch_size=128)"
      ],
      "metadata": {
        "id": "4VyNqiBwwqWJ"
      },
      "execution_count": null,
      "outputs": []
    },
    {
      "cell_type": "code",
      "execution_count": null,
      "metadata": {
        "id": "eRawd3ggwqWJ"
      },
      "outputs": [],
      "source": [
        "#train predicted probability\n",
        "train_proba = dnn.predict(X_train_tfidfw2v)\n",
        "\n",
        "#test predicted probability\n",
        "test_proba = dnn.predict(X_test_tfidfw2v)"
      ]
    },
    {
      "cell_type": "code",
      "execution_count": null,
      "metadata": {
        "id": "U2FBT_UWwqWJ"
      },
      "outputs": [],
      "source": [
        "#predicted classes on train data\n",
        "y_train_predict = train_proba >0.5\n",
        "\n",
        "#predicted classes on test data\n",
        "y_test_predict = test_proba>0.5"
      ]
    },
    {
      "cell_type": "code",
      "execution_count": null,
      "metadata": {
        "id": "4ID2lf7AwqWJ"
      },
      "outputs": [],
      "source": [
        "#accuracy score on train data\n",
        "accuracy_score(y_train,y_train_predict)"
      ]
    },
    {
      "cell_type": "code",
      "execution_count": null,
      "metadata": {
        "id": "u1pFIYIuwqWJ"
      },
      "outputs": [],
      "source": [
        "#accuracy score on test data\n",
        "accuracy_score(y_test,y_test_predict)"
      ]
    },
    {
      "cell_type": "code",
      "execution_count": null,
      "metadata": {
        "id": "GqpVMiCYwqWK"
      },
      "outputs": [],
      "source": [
        "#confusion_matrix on train data\n",
        "\n",
        "#rows are actual label in ascending order i.e. 0 then 1 and cols are predicted labels\n",
        "confusion_matrix(y_train, y_train_predict, normalize='true')"
      ]
    },
    {
      "cell_type": "code",
      "execution_count": null,
      "metadata": {
        "id": "xkgcnxrGwqWK"
      },
      "outputs": [],
      "source": [
        "#confusion_matrix on test data\n",
        "#rows are actual label in ascending order i.e. 0 then 1 and cols are predicted labels\n",
        "confusion_matrix(y_test, y_test_predict, normalize='true')"
      ]
    },
    {
      "cell_type": "code",
      "execution_count": null,
      "metadata": {
        "id": "-m6fZfkYwqWK"
      },
      "outputs": [],
      "source": [
        "\n",
        "#f1_score on the train data\n",
        "print(f1_score(y_train, y_train_predict))\n",
        "\n",
        "#f1_score on the test data\n",
        "print(f1_score(y_test, y_test_predict))"
      ]
    },
    {
      "cell_type": "markdown",
      "metadata": {
        "id": "YFF3G_BWeCNN"
      },
      "source": [
        "**Observation: Look at above confusion matrix: approx 25% of +ve data predicted as -ve and 13% of -ve data predicted as +ve. And also overall performance is not very good. It is performing badly than the bow and tfidf vectorization.**"
      ]
    },
    {
      "cell_type": "code",
      "source": [
        "#model saving path\n",
        "model_version = \"0001\"\n",
        "model_path = \"/content/drive/MyDrive/applied ai/myself work/amazon fine food reviews/saved_models/dnn_tfidfw2v\"\n",
        "model_path = os.path.join(model_path, model_version)"
      ],
      "metadata": {
        "id": "pEuLro16wqWK"
      },
      "execution_count": null,
      "outputs": []
    },
    {
      "cell_type": "markdown",
      "metadata": {
        "id": "CkTrsryBwqWK"
      },
      "source": [
        "**Saving trained model:**"
      ]
    },
    {
      "cell_type": "code",
      "execution_count": null,
      "metadata": {
        "id": "E7mzm10FwqWL"
      },
      "outputs": [],
      "source": [
        "# dnn.save(model_path)"
      ]
    },
    {
      "cell_type": "markdown",
      "metadata": {
        "id": "_j5j51CfwqWL"
      },
      "source": [
        "**Loading trained data:**"
      ]
    },
    {
      "cell_type": "code",
      "execution_count": null,
      "metadata": {
        "id": "eLhJK8QEwqWL"
      },
      "outputs": [],
      "source": [
        "new_model = tf.keras.models.load_model(model_path)"
      ]
    },
    {
      "cell_type": "code",
      "source": [
        "new_model.summary()"
      ],
      "metadata": {
        "id": "tGRMELEAwqWL"
      },
      "execution_count": null,
      "outputs": []
    },
    {
      "cell_type": "markdown",
      "source": [
        "#Conclusion:"
      ],
      "metadata": {
        "id": "shfEjCnIg3CO"
      }
    },
    {
      "cell_type": "markdown",
      "source": [
        "**Logistic regression with the bow vectorization gives us the best performance with approx 91% train accuracy and approx 90% test accuracy.**"
      ],
      "metadata": {
        "id": "fIgf_XFThEUA"
      }
    },
    {
      "cell_type": "markdown",
      "source": [
        "**The End**"
      ],
      "metadata": {
        "id": "rXTZvtwxe70l"
      }
    }
  ],
  "metadata": {
    "colab": {
      "collapsed_sections": [
        "bEFmNOTu1CH3",
        "Liq7oZ32ZUY4",
        "U01a-NpnFOVn"
      ],
      "name": "Amazon Fine Food Reviews.ipynb",
      "provenance": [],
      "mount_file_id": "1ne6f4bvo6UNVXYm2BAzjqK_1JJGv513k",
      "authorship_tag": "ABX9TyMfGFWwSmxT2eJBj5qIGsk1",
      "include_colab_link": true
    },
    "kernelspec": {
      "display_name": "Python 3",
      "name": "python3"
    }
  },
  "nbformat": 4,
  "nbformat_minor": 0
}